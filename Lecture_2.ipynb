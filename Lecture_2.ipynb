{
 "cells": [
  {
   "cell_type": "markdown",
   "metadata": {},
   "source": [
    "![alt text](./pageheader_rose2_babies.jpg)"
   ]
  },
  {
   "cell_type": "markdown",
   "metadata": {},
   "source": [
    "# Data Science in Medicine using Python\n",
    "\n",
    "### Author: Dr Gusztav Belteki"
   ]
  },
  {
   "cell_type": "markdown",
   "metadata": {},
   "source": [
    "## 1. Let us see your homework"
   ]
  },
  {
   "cell_type": "markdown",
   "metadata": {},
   "source": [
    "Try to guess what will these expressions return before pressing `SHIFT-Enter`\n",
    "\n",
    "Some of these points were not discussed. You may need to look it up on the Internet."
   ]
  },
  {
   "cell_type": "code",
   "execution_count": 4,
   "metadata": {},
   "outputs": [
    {
     "data": {
      "text/plain": [
       "10.0"
      ]
     },
     "execution_count": 4,
     "metadata": {},
     "output_type": "execute_result"
    }
   ],
   "source": [
    "10 * 10 / 10"
   ]
  },
  {
   "cell_type": "code",
   "execution_count": 5,
   "metadata": {},
   "outputs": [
    {
     "data": {
      "text/plain": [
       "11.0"
      ]
     },
     "execution_count": 5,
     "metadata": {},
     "output_type": "execute_result"
    }
   ],
   "source": [
    "10 + 10 / 10"
   ]
  },
  {
   "cell_type": "code",
   "execution_count": 6,
   "metadata": {},
   "outputs": [
    {
     "data": {
      "text/plain": [
       "7"
      ]
     },
     "execution_count": 6,
     "metadata": {},
     "output_type": "execute_result"
    }
   ],
   "source": [
    "15 // 2"
   ]
  },
  {
   "cell_type": "code",
   "execution_count": 7,
   "metadata": {},
   "outputs": [
    {
     "data": {
      "text/plain": [
       "1"
      ]
     },
     "execution_count": 7,
     "metadata": {},
     "output_type": "execute_result"
    }
   ],
   "source": [
    "15 % 2"
   ]
  },
  {
   "cell_type": "code",
   "execution_count": 11,
   "metadata": {},
   "outputs": [
    {
     "data": {
      "text/plain": [
       "1"
      ]
     },
     "execution_count": 11,
     "metadata": {},
     "output_type": "execute_result"
    }
   ],
   "source": [
    "1 or 2"
   ]
  },
  {
   "cell_type": "code",
   "execution_count": 8,
   "metadata": {},
   "outputs": [
    {
     "data": {
      "text/plain": [
       "2"
      ]
     },
     "execution_count": 8,
     "metadata": {},
     "output_type": "execute_result"
    }
   ],
   "source": [
    "1 and 2"
   ]
  },
  {
   "cell_type": "code",
   "execution_count": 9,
   "metadata": {},
   "outputs": [
    {
     "data": {
      "text/plain": [
       "0"
      ]
     },
     "execution_count": 9,
     "metadata": {},
     "output_type": "execute_result"
    }
   ],
   "source": [
    "0 and 2"
   ]
  },
  {
   "cell_type": "code",
   "execution_count": 10,
   "metadata": {},
   "outputs": [
    {
     "data": {
      "text/plain": [
       "2"
      ]
     },
     "execution_count": 10,
     "metadata": {},
     "output_type": "execute_result"
    }
   ],
   "source": [
    "0 or 2"
   ]
  },
  {
   "cell_type": "code",
   "execution_count": 15,
   "metadata": {},
   "outputs": [
    {
     "data": {
      "text/plain": [
       "0"
      ]
     },
     "execution_count": 15,
     "metadata": {},
     "output_type": "execute_result"
    }
   ],
   "source": [
    "0 or 1 and 0"
   ]
  },
  {
   "cell_type": "code",
   "execution_count": 16,
   "metadata": {},
   "outputs": [
    {
     "data": {
      "text/plain": [
       "'hello'"
      ]
     },
     "execution_count": 16,
     "metadata": {},
     "output_type": "execute_result"
    }
   ],
   "source": [
    "'' or 'hello'"
   ]
  },
  {
   "cell_type": "code",
   "execution_count": 17,
   "metadata": {},
   "outputs": [
    {
     "data": {
      "text/plain": [
       "' '"
      ]
     },
     "execution_count": 17,
     "metadata": {},
     "output_type": "execute_result"
    }
   ],
   "source": [
    "' ' or hello"
   ]
  },
  {
   "cell_type": "markdown",
   "metadata": {},
   "source": [
    "Why are these different?"
   ]
  },
  {
   "cell_type": "code",
   "execution_count": 25,
   "metadata": {},
   "outputs": [
    {
     "data": {
      "text/plain": [
       "(16, 17)"
      ]
     },
     "execution_count": 25,
     "metadata": {},
     "output_type": "execute_result"
    }
   ],
   "source": [
    "int(16.864295), round(16.864295)"
   ]
  },
  {
   "cell_type": "code",
   "execution_count": null,
   "metadata": {},
   "outputs": [],
   "source": [
    "What will be the output ?"
   ]
  },
  {
   "cell_type": "code",
   "execution_count": 33,
   "metadata": {},
   "outputs": [
    {
     "data": {
      "text/plain": [
       "'Midway upon the journey of our life I found myself within a forest dark, For the straightforward pathway had been lost.'"
      ]
     },
     "execution_count": 33,
     "metadata": {},
     "output_type": "execute_result"
    }
   ],
   "source": [
    "B = 'Midway upon the journey of our life I found myself within a forest dark, For the straightforward pathway had been lost.'\n",
    "B"
   ]
  },
  {
   "cell_type": "code",
   "execution_count": 35,
   "metadata": {},
   "outputs": [
    {
     "data": {
      "text/plain": [
       "1"
      ]
     },
     "execution_count": 35,
     "metadata": {},
     "output_type": "execute_result"
    }
   ],
   "source": [
    "B.count('m')"
   ]
  },
  {
   "cell_type": "code",
   "execution_count": 37,
   "metadata": {},
   "outputs": [
    {
     "data": {
      "text/plain": [
       "2"
      ]
     },
     "execution_count": 37,
     "metadata": {},
     "output_type": "execute_result"
    }
   ],
   "source": [
    "B.lower().count('m')"
   ]
  },
  {
   "cell_type": "code",
   "execution_count": 34,
   "metadata": {},
   "outputs": [
    {
     "data": {
      "text/plain": [
       "['Midway',\n",
       " 'upon',\n",
       " 'the',\n",
       " 'journey',\n",
       " 'of',\n",
       " 'our',\n",
       " 'life',\n",
       " 'I',\n",
       " 'found',\n",
       " 'myself',\n",
       " 'within',\n",
       " 'a',\n",
       " 'forest',\n",
       " 'dark,',\n",
       " 'For',\n",
       " 'the',\n",
       " 'straightforward',\n",
       " 'pathway',\n",
       " 'had',\n",
       " 'been',\n",
       " 'lost.']"
      ]
     },
     "execution_count": 34,
     "metadata": {},
     "output_type": "execute_result"
    }
   ],
   "source": [
    "B.split(' ')"
   ]
  },
  {
   "cell_type": "markdown",
   "metadata": {},
   "source": [
    "Finally: what the heck is this"
   ]
  },
  {
   "cell_type": "code",
   "execution_count": 30,
   "metadata": {},
   "outputs": [
    {
     "data": {
      "text/plain": [
       "['__add__',\n",
       " '__class__',\n",
       " '__contains__',\n",
       " '__delattr__',\n",
       " '__dir__',\n",
       " '__doc__',\n",
       " '__eq__',\n",
       " '__format__',\n",
       " '__ge__',\n",
       " '__getattribute__',\n",
       " '__getitem__',\n",
       " '__getnewargs__',\n",
       " '__gt__',\n",
       " '__hash__',\n",
       " '__init__',\n",
       " '__init_subclass__',\n",
       " '__iter__',\n",
       " '__le__',\n",
       " '__len__',\n",
       " '__lt__',\n",
       " '__mod__',\n",
       " '__mul__',\n",
       " '__ne__',\n",
       " '__new__',\n",
       " '__reduce__',\n",
       " '__reduce_ex__',\n",
       " '__repr__',\n",
       " '__rmod__',\n",
       " '__rmul__',\n",
       " '__setattr__',\n",
       " '__sizeof__',\n",
       " '__str__',\n",
       " '__subclasshook__',\n",
       " 'capitalize',\n",
       " 'casefold',\n",
       " 'center',\n",
       " 'count',\n",
       " 'encode',\n",
       " 'endswith',\n",
       " 'expandtabs',\n",
       " 'find',\n",
       " 'format',\n",
       " 'format_map',\n",
       " 'index',\n",
       " 'isalnum',\n",
       " 'isalpha',\n",
       " 'isascii',\n",
       " 'isdecimal',\n",
       " 'isdigit',\n",
       " 'isidentifier',\n",
       " 'islower',\n",
       " 'isnumeric',\n",
       " 'isprintable',\n",
       " 'isspace',\n",
       " 'istitle',\n",
       " 'isupper',\n",
       " 'join',\n",
       " 'ljust',\n",
       " 'lower',\n",
       " 'lstrip',\n",
       " 'maketrans',\n",
       " 'partition',\n",
       " 'replace',\n",
       " 'rfind',\n",
       " 'rindex',\n",
       " 'rjust',\n",
       " 'rpartition',\n",
       " 'rsplit',\n",
       " 'rstrip',\n",
       " 'split',\n",
       " 'splitlines',\n",
       " 'startswith',\n",
       " 'strip',\n",
       " 'swapcase',\n",
       " 'title',\n",
       " 'translate',\n",
       " 'upper',\n",
       " 'zfill']"
      ]
     },
     "execution_count": 30,
     "metadata": {},
     "output_type": "execute_result"
    }
   ],
   "source": [
    "dir(B)"
   ]
  },
  {
   "cell_type": "markdown",
   "metadata": {},
   "source": [
    "## 2. Once more about functions"
   ]
  },
  {
   "cell_type": "markdown",
   "metadata": {},
   "source": [
    "1. Built-in functions\n",
    "2. Functions generated by you\n",
    "3. Functions imported from modules"
   ]
  },
  {
   "cell_type": "markdown",
   "metadata": {},
   "source": [
    "#### 1. Built-in functions"
   ]
  },
  {
   "cell_type": "code",
   "execution_count": 3,
   "metadata": {},
   "outputs": [
    {
     "data": {
      "text/plain": [
       "[-15, -1, 2, 5, 25]"
      ]
     },
     "execution_count": 3,
     "metadata": {},
     "output_type": "execute_result"
    }
   ],
   "source": [
    "A = (5, -1, -15, 25, 2)\n",
    "sorted(A)"
   ]
  },
  {
   "cell_type": "code",
   "execution_count": 4,
   "metadata": {},
   "outputs": [
    {
     "data": {
      "text/plain": [
       "[-15, -1, 2, 5, 25]"
      ]
     },
     "execution_count": 4,
     "metadata": {},
     "output_type": "execute_result"
    }
   ],
   "source": [
    "sorted((5, -1, -15, 25, 2))"
   ]
  },
  {
   "cell_type": "code",
   "execution_count": 5,
   "metadata": {},
   "outputs": [
    {
     "data": {
      "text/plain": [
       "[25, 5, 2, -1, -15]"
      ]
     },
     "execution_count": 5,
     "metadata": {},
     "output_type": "execute_result"
    }
   ],
   "source": [
    "sorted(A, reverse= True)"
   ]
  },
  {
   "cell_type": "code",
   "execution_count": 7,
   "metadata": {},
   "outputs": [
    {
     "name": "stdout",
     "output_type": "stream",
     "text": [
      "Help on built-in function sorted in module builtins:\n",
      "\n",
      "sorted(iterable, /, *, key=None, reverse=False)\n",
      "    Return a new list containing all items from the iterable in ascending order.\n",
      "    \n",
      "    A custom key function can be supplied to customize the sort order, and the\n",
      "    reverse flag can be set to request the result in descending order.\n",
      "\n"
     ]
    }
   ],
   "source": [
    "help(sorted)"
   ]
  },
  {
   "cell_type": "code",
   "execution_count": 7,
   "metadata": {},
   "outputs": [
    {
     "data": {
      "text/plain": [
       "[-1, 2, 5, -15, 25]"
      ]
     },
     "execution_count": 7,
     "metadata": {},
     "output_type": "execute_result"
    }
   ],
   "source": [
    "sorted(A, key=abs)"
   ]
  },
  {
   "cell_type": "code",
   "execution_count": 6,
   "metadata": {},
   "outputs": [],
   "source": [
    "sorted?"
   ]
  },
  {
   "cell_type": "code",
   "execution_count": 8,
   "metadata": {},
   "outputs": [
    {
     "name": "stdout",
     "output_type": "stream",
     "text": [
      "Hello Hello\n"
     ]
    }
   ],
   "source": [
    "print('Hello', 'Hello')"
   ]
  },
  {
   "cell_type": "code",
   "execution_count": 11,
   "metadata": {},
   "outputs": [
    {
     "name": "stdout",
     "output_type": "stream",
     "text": [
      "Hello*****Hello\n"
     ]
    }
   ],
   "source": [
    "print('Hello', 'Hello', sep='*****')"
   ]
  },
  {
   "cell_type": "code",
   "execution_count": 8,
   "metadata": {},
   "outputs": [
    {
     "name": "stdout",
     "output_type": "stream",
     "text": [
      "Help on built-in function print in module builtins:\n",
      "\n",
      "print(...)\n",
      "    print(value, ..., sep=' ', end='\\n', file=sys.stdout, flush=False)\n",
      "    \n",
      "    Prints the values to a stream, or to sys.stdout by default.\n",
      "    Optional keyword arguments:\n",
      "    file:  a file-like object (stream); defaults to the current sys.stdout.\n",
      "    sep:   string inserted between values, default a space.\n",
      "    end:   string appended after the last value, default a newline.\n",
      "    flush: whether to forcibly flush the stream.\n",
      "\n"
     ]
    }
   ],
   "source": [
    "help(print)"
   ]
  },
  {
   "cell_type": "markdown",
   "metadata": {},
   "source": [
    "#### 2. Your own functions "
   ]
  },
  {
   "cell_type": "markdown",
   "metadata": {},
   "source": [
    "Please note that variable name format with _underscores_.\n",
    "\n",
    "This is the first use of `indentation` during our journey"
   ]
  },
  {
   "cell_type": "code",
   "execution_count": 9,
   "metadata": {},
   "outputs": [],
   "source": [
    "# defining the function\n",
    "\n",
    "def my_first_function(a, b):\n",
    "    return a + b"
   ]
  },
  {
   "cell_type": "code",
   "execution_count": 10,
   "metadata": {},
   "outputs": [
    {
     "data": {
      "text/plain": [
       "15"
      ]
     },
     "execution_count": 10,
     "metadata": {},
     "output_type": "execute_result"
    }
   ],
   "source": [
    "# calling the function\n",
    "\n",
    "my_first_function(10, 5)"
   ]
  },
  {
   "cell_type": "code",
   "execution_count": 11,
   "metadata": {},
   "outputs": [],
   "source": [
    "A = my_first_function(20, 100)"
   ]
  },
  {
   "cell_type": "code",
   "execution_count": 12,
   "metadata": {},
   "outputs": [
    {
     "data": {
      "text/plain": [
       "120"
      ]
     },
     "execution_count": 12,
     "metadata": {},
     "output_type": "execute_result"
    }
   ],
   "source": [
    "A"
   ]
  },
  {
   "cell_type": "markdown",
   "metadata": {},
   "source": [
    "Function with default parameters"
   ]
  },
  {
   "cell_type": "code",
   "execution_count": 13,
   "metadata": {},
   "outputs": [],
   "source": [
    "def my_second_function(a, b = 100):\n",
    "    return a + b"
   ]
  },
  {
   "cell_type": "code",
   "execution_count": 14,
   "metadata": {},
   "outputs": [
    {
     "data": {
      "text/plain": [
       "105"
      ]
     },
     "execution_count": 14,
     "metadata": {},
     "output_type": "execute_result"
    }
   ],
   "source": [
    "my_second_function(5)"
   ]
  },
  {
   "cell_type": "code",
   "execution_count": 15,
   "metadata": {},
   "outputs": [
    {
     "data": {
      "text/plain": [
       "25"
      ]
     },
     "execution_count": 15,
     "metadata": {},
     "output_type": "execute_result"
    }
   ],
   "source": [
    "my_second_function(5, 20)"
   ]
  },
  {
   "cell_type": "markdown",
   "metadata": {},
   "source": [
    "Not all functions have arguments"
   ]
  },
  {
   "cell_type": "code",
   "execution_count": 16,
   "metadata": {},
   "outputs": [],
   "source": [
    "def my_third_function():\n",
    "    return 10"
   ]
  },
  {
   "cell_type": "code",
   "execution_count": 17,
   "metadata": {},
   "outputs": [
    {
     "data": {
      "text/plain": [
       "10"
      ]
     },
     "execution_count": 17,
     "metadata": {},
     "output_type": "execute_result"
    }
   ],
   "source": [
    "my_third_function()"
   ]
  },
  {
   "cell_type": "markdown",
   "metadata": {},
   "source": [
    "Functions can do something else rather than returning a value"
   ]
  },
  {
   "cell_type": "code",
   "execution_count": 18,
   "metadata": {},
   "outputs": [],
   "source": [
    "def my_third_function(a):\n",
    "    print(a)"
   ]
  },
  {
   "cell_type": "code",
   "execution_count": 20,
   "metadata": {},
   "outputs": [
    {
     "name": "stdout",
     "output_type": "stream",
     "text": [
      "Hello world\n"
     ]
    }
   ],
   "source": [
    "my_third_function('Hello world')"
   ]
  },
  {
   "cell_type": "markdown",
   "metadata": {},
   "source": [
    "Let us see what happens if we assign the call to a variable\n",
    "\n",
    "_This is difficult to understand - do not be put off by this_"
   ]
  },
  {
   "cell_type": "code",
   "execution_count": 22,
   "metadata": {},
   "outputs": [
    {
     "name": "stdout",
     "output_type": "stream",
     "text": [
      "Hello world\n"
     ]
    }
   ],
   "source": [
    "A = my_third_function('Hello world')"
   ]
  },
  {
   "cell_type": "code",
   "execution_count": 23,
   "metadata": {},
   "outputs": [],
   "source": [
    "A"
   ]
  },
  {
   "cell_type": "markdown",
   "metadata": {},
   "source": [
    "#### 3. Functions imported from modules"
   ]
  },
  {
   "cell_type": "markdown",
   "metadata": {},
   "source": [
    "Modules need to be imported first"
   ]
  },
  {
   "cell_type": "code",
   "execution_count": 28,
   "metadata": {},
   "outputs": [],
   "source": [
    "import pandas as pd"
   ]
  },
  {
   "cell_type": "code",
   "execution_count": 25,
   "metadata": {},
   "outputs": [
    {
     "data": {
      "text/html": [
       "<div>\n",
       "<style scoped>\n",
       "    .dataframe tbody tr th:only-of-type {\n",
       "        vertical-align: middle;\n",
       "    }\n",
       "\n",
       "    .dataframe tbody tr th {\n",
       "        vertical-align: top;\n",
       "    }\n",
       "\n",
       "    .dataframe thead th {\n",
       "        text-align: right;\n",
       "    }\n",
       "</style>\n",
       "<table border=\"1\" class=\"dataframe\">\n",
       "  <thead>\n",
       "    <tr style=\"text-align: right;\">\n",
       "      <th></th>\n",
       "      <th>Time [ms]</th>\n",
       "      <th>Date</th>\n",
       "      <th>Time</th>\n",
       "      <th>Rel.Time [s]</th>\n",
       "      <th>5001|MVe [L/min]</th>\n",
       "      <th>5001|MVi [L/min]</th>\n",
       "      <th>5001|Cdyn [L/bar]</th>\n",
       "      <th>5001|R [mbar/L/s]</th>\n",
       "      <th>5001|MVespon [L/min]</th>\n",
       "      <th>5001|Rpat [mbar/L/s]</th>\n",
       "      <th>...</th>\n",
       "      <th>5001|TC [s]</th>\n",
       "      <th>5001|TCe [s]</th>\n",
       "      <th>5001|C20/Cdyn [no unit]</th>\n",
       "      <th>5001|VTe [mL]</th>\n",
       "      <th>5001|VTi [mL]</th>\n",
       "      <th>5001|EIP [mbar]</th>\n",
       "      <th>5001|MVleak [L/min]</th>\n",
       "      <th>5001|Tispon [s]</th>\n",
       "      <th>5001|I:Espon (I-Part) [no unit]</th>\n",
       "      <th>5001|I:Espon (E-Part) [no unit]</th>\n",
       "    </tr>\n",
       "  </thead>\n",
       "  <tbody>\n",
       "    <tr>\n",
       "      <th>0</th>\n",
       "      <td>1604324559904</td>\n",
       "      <td>2020-11-02</td>\n",
       "      <td>13:42:39.904</td>\n",
       "      <td>0</td>\n",
       "      <td>0.20</td>\n",
       "      <td>0.21</td>\n",
       "      <td>0.21</td>\n",
       "      <td>146.0</td>\n",
       "      <td>0.0</td>\n",
       "      <td>128.0</td>\n",
       "      <td>...</td>\n",
       "      <td>NaN</td>\n",
       "      <td>NaN</td>\n",
       "      <td>NaN</td>\n",
       "      <td>NaN</td>\n",
       "      <td>NaN</td>\n",
       "      <td>NaN</td>\n",
       "      <td>NaN</td>\n",
       "      <td>NaN</td>\n",
       "      <td>NaN</td>\n",
       "      <td>NaN</td>\n",
       "    </tr>\n",
       "    <tr>\n",
       "      <th>1</th>\n",
       "      <td>1604324560029</td>\n",
       "      <td>2020-11-02</td>\n",
       "      <td>13:42:40.029</td>\n",
       "      <td>0</td>\n",
       "      <td>NaN</td>\n",
       "      <td>NaN</td>\n",
       "      <td>NaN</td>\n",
       "      <td>NaN</td>\n",
       "      <td>NaN</td>\n",
       "      <td>NaN</td>\n",
       "      <td>...</td>\n",
       "      <td>0.03</td>\n",
       "      <td>0.11</td>\n",
       "      <td>0.55</td>\n",
       "      <td>3.4</td>\n",
       "      <td>3.4</td>\n",
       "      <td>21.0</td>\n",
       "      <td>0.00</td>\n",
       "      <td>NaN</td>\n",
       "      <td>NaN</td>\n",
       "      <td>NaN</td>\n",
       "    </tr>\n",
       "    <tr>\n",
       "      <th>2</th>\n",
       "      <td>1604324560951</td>\n",
       "      <td>2020-11-02</td>\n",
       "      <td>13:42:40.951</td>\n",
       "      <td>1</td>\n",
       "      <td>0.20</td>\n",
       "      <td>0.21</td>\n",
       "      <td>0.22</td>\n",
       "      <td>146.0</td>\n",
       "      <td>0.0</td>\n",
       "      <td>128.0</td>\n",
       "      <td>...</td>\n",
       "      <td>NaN</td>\n",
       "      <td>NaN</td>\n",
       "      <td>NaN</td>\n",
       "      <td>NaN</td>\n",
       "      <td>NaN</td>\n",
       "      <td>NaN</td>\n",
       "      <td>NaN</td>\n",
       "      <td>NaN</td>\n",
       "      <td>NaN</td>\n",
       "      <td>NaN</td>\n",
       "    </tr>\n",
       "    <tr>\n",
       "      <th>3</th>\n",
       "      <td>1604324561060</td>\n",
       "      <td>2020-11-02</td>\n",
       "      <td>13:42:41.060</td>\n",
       "      <td>1</td>\n",
       "      <td>NaN</td>\n",
       "      <td>NaN</td>\n",
       "      <td>NaN</td>\n",
       "      <td>NaN</td>\n",
       "      <td>NaN</td>\n",
       "      <td>NaN</td>\n",
       "      <td>...</td>\n",
       "      <td>0.03</td>\n",
       "      <td>0.21</td>\n",
       "      <td>0.55</td>\n",
       "      <td>8.2</td>\n",
       "      <td>3.6</td>\n",
       "      <td>22.0</td>\n",
       "      <td>0.00</td>\n",
       "      <td>NaN</td>\n",
       "      <td>NaN</td>\n",
       "      <td>NaN</td>\n",
       "    </tr>\n",
       "    <tr>\n",
       "      <th>4</th>\n",
       "      <td>1604324561935</td>\n",
       "      <td>2020-11-02</td>\n",
       "      <td>13:42:41.935</td>\n",
       "      <td>2</td>\n",
       "      <td>0.20</td>\n",
       "      <td>0.21</td>\n",
       "      <td>0.26</td>\n",
       "      <td>154.0</td>\n",
       "      <td>0.0</td>\n",
       "      <td>136.0</td>\n",
       "      <td>...</td>\n",
       "      <td>NaN</td>\n",
       "      <td>NaN</td>\n",
       "      <td>NaN</td>\n",
       "      <td>NaN</td>\n",
       "      <td>NaN</td>\n",
       "      <td>NaN</td>\n",
       "      <td>NaN</td>\n",
       "      <td>NaN</td>\n",
       "      <td>NaN</td>\n",
       "      <td>NaN</td>\n",
       "    </tr>\n",
       "    <tr>\n",
       "      <th>...</th>\n",
       "      <td>...</td>\n",
       "      <td>...</td>\n",
       "      <td>...</td>\n",
       "      <td>...</td>\n",
       "      <td>...</td>\n",
       "      <td>...</td>\n",
       "      <td>...</td>\n",
       "      <td>...</td>\n",
       "      <td>...</td>\n",
       "      <td>...</td>\n",
       "      <td>...</td>\n",
       "      <td>...</td>\n",
       "      <td>...</td>\n",
       "      <td>...</td>\n",
       "      <td>...</td>\n",
       "      <td>...</td>\n",
       "      <td>...</td>\n",
       "      <td>...</td>\n",
       "      <td>...</td>\n",
       "      <td>...</td>\n",
       "      <td>...</td>\n",
       "    </tr>\n",
       "    <tr>\n",
       "      <th>689431</th>\n",
       "      <td>1604669233906</td>\n",
       "      <td>2020-11-06</td>\n",
       "      <td>13:27:13.906</td>\n",
       "      <td>344674</td>\n",
       "      <td>0.22</td>\n",
       "      <td>0.22</td>\n",
       "      <td>0.21</td>\n",
       "      <td>164.0</td>\n",
       "      <td>0.0</td>\n",
       "      <td>150.0</td>\n",
       "      <td>...</td>\n",
       "      <td>NaN</td>\n",
       "      <td>NaN</td>\n",
       "      <td>NaN</td>\n",
       "      <td>NaN</td>\n",
       "      <td>NaN</td>\n",
       "      <td>NaN</td>\n",
       "      <td>NaN</td>\n",
       "      <td>NaN</td>\n",
       "      <td>NaN</td>\n",
       "      <td>NaN</td>\n",
       "    </tr>\n",
       "    <tr>\n",
       "      <th>689432</th>\n",
       "      <td>1604669234031</td>\n",
       "      <td>2020-11-06</td>\n",
       "      <td>13:27:14.031</td>\n",
       "      <td>344674</td>\n",
       "      <td>NaN</td>\n",
       "      <td>NaN</td>\n",
       "      <td>NaN</td>\n",
       "      <td>NaN</td>\n",
       "      <td>NaN</td>\n",
       "      <td>NaN</td>\n",
       "      <td>...</td>\n",
       "      <td>0.04</td>\n",
       "      <td>0.11</td>\n",
       "      <td>0.75</td>\n",
       "      <td>3.1</td>\n",
       "      <td>2.6</td>\n",
       "      <td>18.0</td>\n",
       "      <td>0.02</td>\n",
       "      <td>NaN</td>\n",
       "      <td>NaN</td>\n",
       "      <td>NaN</td>\n",
       "    </tr>\n",
       "    <tr>\n",
       "      <th>689433</th>\n",
       "      <td>1604669234906</td>\n",
       "      <td>2020-11-06</td>\n",
       "      <td>13:27:14.906</td>\n",
       "      <td>344675</td>\n",
       "      <td>0.22</td>\n",
       "      <td>0.22</td>\n",
       "      <td>0.21</td>\n",
       "      <td>164.0</td>\n",
       "      <td>0.0</td>\n",
       "      <td>150.0</td>\n",
       "      <td>...</td>\n",
       "      <td>NaN</td>\n",
       "      <td>NaN</td>\n",
       "      <td>NaN</td>\n",
       "      <td>NaN</td>\n",
       "      <td>NaN</td>\n",
       "      <td>NaN</td>\n",
       "      <td>NaN</td>\n",
       "      <td>NaN</td>\n",
       "      <td>NaN</td>\n",
       "      <td>NaN</td>\n",
       "    </tr>\n",
       "    <tr>\n",
       "      <th>689434</th>\n",
       "      <td>1604669235046</td>\n",
       "      <td>2020-11-06</td>\n",
       "      <td>13:27:15.046</td>\n",
       "      <td>344675</td>\n",
       "      <td>NaN</td>\n",
       "      <td>NaN</td>\n",
       "      <td>NaN</td>\n",
       "      <td>NaN</td>\n",
       "      <td>NaN</td>\n",
       "      <td>NaN</td>\n",
       "      <td>...</td>\n",
       "      <td>0.01</td>\n",
       "      <td>0.15</td>\n",
       "      <td>0.75</td>\n",
       "      <td>4.1</td>\n",
       "      <td>2.6</td>\n",
       "      <td>19.0</td>\n",
       "      <td>0.01</td>\n",
       "      <td>NaN</td>\n",
       "      <td>NaN</td>\n",
       "      <td>NaN</td>\n",
       "    </tr>\n",
       "    <tr>\n",
       "      <th>689435</th>\n",
       "      <td>1604669235937</td>\n",
       "      <td>2020-11-06</td>\n",
       "      <td>13:27:15.937</td>\n",
       "      <td>344676</td>\n",
       "      <td>0.22</td>\n",
       "      <td>0.22</td>\n",
       "      <td>0.05</td>\n",
       "      <td>164.0</td>\n",
       "      <td>0.0</td>\n",
       "      <td>150.0</td>\n",
       "      <td>...</td>\n",
       "      <td>NaN</td>\n",
       "      <td>NaN</td>\n",
       "      <td>NaN</td>\n",
       "      <td>NaN</td>\n",
       "      <td>NaN</td>\n",
       "      <td>NaN</td>\n",
       "      <td>NaN</td>\n",
       "      <td>NaN</td>\n",
       "      <td>NaN</td>\n",
       "      <td>NaN</td>\n",
       "    </tr>\n",
       "  </tbody>\n",
       "</table>\n",
       "<p>689436 rows × 47 columns</p>\n",
       "</div>"
      ],
      "text/plain": [
       "            Time [ms]        Date          Time  Rel.Time [s]  \\\n",
       "0       1604324559904  2020-11-02  13:42:39.904             0   \n",
       "1       1604324560029  2020-11-02  13:42:40.029             0   \n",
       "2       1604324560951  2020-11-02  13:42:40.951             1   \n",
       "3       1604324561060  2020-11-02  13:42:41.060             1   \n",
       "4       1604324561935  2020-11-02  13:42:41.935             2   \n",
       "...               ...         ...           ...           ...   \n",
       "689431  1604669233906  2020-11-06  13:27:13.906        344674   \n",
       "689432  1604669234031  2020-11-06  13:27:14.031        344674   \n",
       "689433  1604669234906  2020-11-06  13:27:14.906        344675   \n",
       "689434  1604669235046  2020-11-06  13:27:15.046        344675   \n",
       "689435  1604669235937  2020-11-06  13:27:15.937        344676   \n",
       "\n",
       "        5001|MVe [L/min]  5001|MVi [L/min]  5001|Cdyn [L/bar]  \\\n",
       "0                   0.20              0.21               0.21   \n",
       "1                    NaN               NaN                NaN   \n",
       "2                   0.20              0.21               0.22   \n",
       "3                    NaN               NaN                NaN   \n",
       "4                   0.20              0.21               0.26   \n",
       "...                  ...               ...                ...   \n",
       "689431              0.22              0.22               0.21   \n",
       "689432               NaN               NaN                NaN   \n",
       "689433              0.22              0.22               0.21   \n",
       "689434               NaN               NaN                NaN   \n",
       "689435              0.22              0.22               0.05   \n",
       "\n",
       "        5001|R [mbar/L/s]  5001|MVespon [L/min]  5001|Rpat [mbar/L/s]  ...  \\\n",
       "0                   146.0                   0.0                 128.0  ...   \n",
       "1                     NaN                   NaN                   NaN  ...   \n",
       "2                   146.0                   0.0                 128.0  ...   \n",
       "3                     NaN                   NaN                   NaN  ...   \n",
       "4                   154.0                   0.0                 136.0  ...   \n",
       "...                   ...                   ...                   ...  ...   \n",
       "689431              164.0                   0.0                 150.0  ...   \n",
       "689432                NaN                   NaN                   NaN  ...   \n",
       "689433              164.0                   0.0                 150.0  ...   \n",
       "689434                NaN                   NaN                   NaN  ...   \n",
       "689435              164.0                   0.0                 150.0  ...   \n",
       "\n",
       "        5001|TC [s]  5001|TCe [s]  5001|C20/Cdyn [no unit]  5001|VTe [mL]  \\\n",
       "0               NaN           NaN                      NaN            NaN   \n",
       "1              0.03          0.11                     0.55            3.4   \n",
       "2               NaN           NaN                      NaN            NaN   \n",
       "3              0.03          0.21                     0.55            8.2   \n",
       "4               NaN           NaN                      NaN            NaN   \n",
       "...             ...           ...                      ...            ...   \n",
       "689431          NaN           NaN                      NaN            NaN   \n",
       "689432         0.04          0.11                     0.75            3.1   \n",
       "689433          NaN           NaN                      NaN            NaN   \n",
       "689434         0.01          0.15                     0.75            4.1   \n",
       "689435          NaN           NaN                      NaN            NaN   \n",
       "\n",
       "        5001|VTi [mL]  5001|EIP [mbar]  5001|MVleak [L/min]  5001|Tispon [s]  \\\n",
       "0                 NaN              NaN                  NaN              NaN   \n",
       "1                 3.4             21.0                 0.00              NaN   \n",
       "2                 NaN              NaN                  NaN              NaN   \n",
       "3                 3.6             22.0                 0.00              NaN   \n",
       "4                 NaN              NaN                  NaN              NaN   \n",
       "...               ...              ...                  ...              ...   \n",
       "689431            NaN              NaN                  NaN              NaN   \n",
       "689432            2.6             18.0                 0.02              NaN   \n",
       "689433            NaN              NaN                  NaN              NaN   \n",
       "689434            2.6             19.0                 0.01              NaN   \n",
       "689435            NaN              NaN                  NaN              NaN   \n",
       "\n",
       "        5001|I:Espon (I-Part) [no unit]  5001|I:Espon (E-Part) [no unit]  \n",
       "0                                   NaN                              NaN  \n",
       "1                                   NaN                              NaN  \n",
       "2                                   NaN                              NaN  \n",
       "3                                   NaN                              NaN  \n",
       "4                                   NaN                              NaN  \n",
       "...                                 ...                              ...  \n",
       "689431                              NaN                              NaN  \n",
       "689432                              NaN                              NaN  \n",
       "689433                              NaN                              NaN  \n",
       "689434                              NaN                              NaN  \n",
       "689435                              NaN                              NaN  \n",
       "\n",
       "[689436 rows x 47 columns]"
      ]
     },
     "execution_count": 25,
     "metadata": {},
     "output_type": "execute_result"
    }
   ],
   "source": [
    "# Imported by not bound to a variable. We cannot use it later.\n",
    "\n",
    "pd.read_csv('data/CsvLogBase_2020-11-02_134238.904_slow_Measurement.csv.zip')"
   ]
  },
  {
   "cell_type": "code",
   "execution_count": 45,
   "metadata": {},
   "outputs": [],
   "source": [
    "# Now it is there for later use\n",
    "\n",
    "data = pd.read_csv('data/CsvLogBase_2020-11-02_134238.904_slow_Measurement.csv.zip')"
   ]
  },
  {
   "cell_type": "code",
   "execution_count": 46,
   "metadata": {},
   "outputs": [
    {
     "data": {
      "text/html": [
       "<div>\n",
       "<style scoped>\n",
       "    .dataframe tbody tr th:only-of-type {\n",
       "        vertical-align: middle;\n",
       "    }\n",
       "\n",
       "    .dataframe tbody tr th {\n",
       "        vertical-align: top;\n",
       "    }\n",
       "\n",
       "    .dataframe thead th {\n",
       "        text-align: right;\n",
       "    }\n",
       "</style>\n",
       "<table border=\"1\" class=\"dataframe\">\n",
       "  <thead>\n",
       "    <tr style=\"text-align: right;\">\n",
       "      <th></th>\n",
       "      <th>Time [ms]</th>\n",
       "      <th>Date</th>\n",
       "      <th>Time</th>\n",
       "      <th>Rel.Time [s]</th>\n",
       "      <th>5001|MVe [L/min]</th>\n",
       "      <th>5001|MVi [L/min]</th>\n",
       "      <th>5001|Cdyn [L/bar]</th>\n",
       "      <th>5001|R [mbar/L/s]</th>\n",
       "      <th>5001|MVespon [L/min]</th>\n",
       "      <th>5001|Rpat [mbar/L/s]</th>\n",
       "      <th>...</th>\n",
       "      <th>5001|TC [s]</th>\n",
       "      <th>5001|TCe [s]</th>\n",
       "      <th>5001|C20/Cdyn [no unit]</th>\n",
       "      <th>5001|VTe [mL]</th>\n",
       "      <th>5001|VTi [mL]</th>\n",
       "      <th>5001|EIP [mbar]</th>\n",
       "      <th>5001|MVleak [L/min]</th>\n",
       "      <th>5001|Tispon [s]</th>\n",
       "      <th>5001|I:Espon (I-Part) [no unit]</th>\n",
       "      <th>5001|I:Espon (E-Part) [no unit]</th>\n",
       "    </tr>\n",
       "  </thead>\n",
       "  <tbody>\n",
       "    <tr>\n",
       "      <th>0</th>\n",
       "      <td>1604324559904</td>\n",
       "      <td>2020-11-02</td>\n",
       "      <td>13:42:39.904</td>\n",
       "      <td>0</td>\n",
       "      <td>0.20</td>\n",
       "      <td>0.21</td>\n",
       "      <td>0.21</td>\n",
       "      <td>146.0</td>\n",
       "      <td>0.0</td>\n",
       "      <td>128.0</td>\n",
       "      <td>...</td>\n",
       "      <td>NaN</td>\n",
       "      <td>NaN</td>\n",
       "      <td>NaN</td>\n",
       "      <td>NaN</td>\n",
       "      <td>NaN</td>\n",
       "      <td>NaN</td>\n",
       "      <td>NaN</td>\n",
       "      <td>NaN</td>\n",
       "      <td>NaN</td>\n",
       "      <td>NaN</td>\n",
       "    </tr>\n",
       "    <tr>\n",
       "      <th>1</th>\n",
       "      <td>1604324560029</td>\n",
       "      <td>2020-11-02</td>\n",
       "      <td>13:42:40.029</td>\n",
       "      <td>0</td>\n",
       "      <td>NaN</td>\n",
       "      <td>NaN</td>\n",
       "      <td>NaN</td>\n",
       "      <td>NaN</td>\n",
       "      <td>NaN</td>\n",
       "      <td>NaN</td>\n",
       "      <td>...</td>\n",
       "      <td>0.03</td>\n",
       "      <td>0.11</td>\n",
       "      <td>0.55</td>\n",
       "      <td>3.4</td>\n",
       "      <td>3.4</td>\n",
       "      <td>21.0</td>\n",
       "      <td>0.00</td>\n",
       "      <td>NaN</td>\n",
       "      <td>NaN</td>\n",
       "      <td>NaN</td>\n",
       "    </tr>\n",
       "    <tr>\n",
       "      <th>2</th>\n",
       "      <td>1604324560951</td>\n",
       "      <td>2020-11-02</td>\n",
       "      <td>13:42:40.951</td>\n",
       "      <td>1</td>\n",
       "      <td>0.20</td>\n",
       "      <td>0.21</td>\n",
       "      <td>0.22</td>\n",
       "      <td>146.0</td>\n",
       "      <td>0.0</td>\n",
       "      <td>128.0</td>\n",
       "      <td>...</td>\n",
       "      <td>NaN</td>\n",
       "      <td>NaN</td>\n",
       "      <td>NaN</td>\n",
       "      <td>NaN</td>\n",
       "      <td>NaN</td>\n",
       "      <td>NaN</td>\n",
       "      <td>NaN</td>\n",
       "      <td>NaN</td>\n",
       "      <td>NaN</td>\n",
       "      <td>NaN</td>\n",
       "    </tr>\n",
       "    <tr>\n",
       "      <th>3</th>\n",
       "      <td>1604324561060</td>\n",
       "      <td>2020-11-02</td>\n",
       "      <td>13:42:41.060</td>\n",
       "      <td>1</td>\n",
       "      <td>NaN</td>\n",
       "      <td>NaN</td>\n",
       "      <td>NaN</td>\n",
       "      <td>NaN</td>\n",
       "      <td>NaN</td>\n",
       "      <td>NaN</td>\n",
       "      <td>...</td>\n",
       "      <td>0.03</td>\n",
       "      <td>0.21</td>\n",
       "      <td>0.55</td>\n",
       "      <td>8.2</td>\n",
       "      <td>3.6</td>\n",
       "      <td>22.0</td>\n",
       "      <td>0.00</td>\n",
       "      <td>NaN</td>\n",
       "      <td>NaN</td>\n",
       "      <td>NaN</td>\n",
       "    </tr>\n",
       "    <tr>\n",
       "      <th>4</th>\n",
       "      <td>1604324561935</td>\n",
       "      <td>2020-11-02</td>\n",
       "      <td>13:42:41.935</td>\n",
       "      <td>2</td>\n",
       "      <td>0.20</td>\n",
       "      <td>0.21</td>\n",
       "      <td>0.26</td>\n",
       "      <td>154.0</td>\n",
       "      <td>0.0</td>\n",
       "      <td>136.0</td>\n",
       "      <td>...</td>\n",
       "      <td>NaN</td>\n",
       "      <td>NaN</td>\n",
       "      <td>NaN</td>\n",
       "      <td>NaN</td>\n",
       "      <td>NaN</td>\n",
       "      <td>NaN</td>\n",
       "      <td>NaN</td>\n",
       "      <td>NaN</td>\n",
       "      <td>NaN</td>\n",
       "      <td>NaN</td>\n",
       "    </tr>\n",
       "    <tr>\n",
       "      <th>...</th>\n",
       "      <td>...</td>\n",
       "      <td>...</td>\n",
       "      <td>...</td>\n",
       "      <td>...</td>\n",
       "      <td>...</td>\n",
       "      <td>...</td>\n",
       "      <td>...</td>\n",
       "      <td>...</td>\n",
       "      <td>...</td>\n",
       "      <td>...</td>\n",
       "      <td>...</td>\n",
       "      <td>...</td>\n",
       "      <td>...</td>\n",
       "      <td>...</td>\n",
       "      <td>...</td>\n",
       "      <td>...</td>\n",
       "      <td>...</td>\n",
       "      <td>...</td>\n",
       "      <td>...</td>\n",
       "      <td>...</td>\n",
       "      <td>...</td>\n",
       "    </tr>\n",
       "    <tr>\n",
       "      <th>689431</th>\n",
       "      <td>1604669233906</td>\n",
       "      <td>2020-11-06</td>\n",
       "      <td>13:27:13.906</td>\n",
       "      <td>344674</td>\n",
       "      <td>0.22</td>\n",
       "      <td>0.22</td>\n",
       "      <td>0.21</td>\n",
       "      <td>164.0</td>\n",
       "      <td>0.0</td>\n",
       "      <td>150.0</td>\n",
       "      <td>...</td>\n",
       "      <td>NaN</td>\n",
       "      <td>NaN</td>\n",
       "      <td>NaN</td>\n",
       "      <td>NaN</td>\n",
       "      <td>NaN</td>\n",
       "      <td>NaN</td>\n",
       "      <td>NaN</td>\n",
       "      <td>NaN</td>\n",
       "      <td>NaN</td>\n",
       "      <td>NaN</td>\n",
       "    </tr>\n",
       "    <tr>\n",
       "      <th>689432</th>\n",
       "      <td>1604669234031</td>\n",
       "      <td>2020-11-06</td>\n",
       "      <td>13:27:14.031</td>\n",
       "      <td>344674</td>\n",
       "      <td>NaN</td>\n",
       "      <td>NaN</td>\n",
       "      <td>NaN</td>\n",
       "      <td>NaN</td>\n",
       "      <td>NaN</td>\n",
       "      <td>NaN</td>\n",
       "      <td>...</td>\n",
       "      <td>0.04</td>\n",
       "      <td>0.11</td>\n",
       "      <td>0.75</td>\n",
       "      <td>3.1</td>\n",
       "      <td>2.6</td>\n",
       "      <td>18.0</td>\n",
       "      <td>0.02</td>\n",
       "      <td>NaN</td>\n",
       "      <td>NaN</td>\n",
       "      <td>NaN</td>\n",
       "    </tr>\n",
       "    <tr>\n",
       "      <th>689433</th>\n",
       "      <td>1604669234906</td>\n",
       "      <td>2020-11-06</td>\n",
       "      <td>13:27:14.906</td>\n",
       "      <td>344675</td>\n",
       "      <td>0.22</td>\n",
       "      <td>0.22</td>\n",
       "      <td>0.21</td>\n",
       "      <td>164.0</td>\n",
       "      <td>0.0</td>\n",
       "      <td>150.0</td>\n",
       "      <td>...</td>\n",
       "      <td>NaN</td>\n",
       "      <td>NaN</td>\n",
       "      <td>NaN</td>\n",
       "      <td>NaN</td>\n",
       "      <td>NaN</td>\n",
       "      <td>NaN</td>\n",
       "      <td>NaN</td>\n",
       "      <td>NaN</td>\n",
       "      <td>NaN</td>\n",
       "      <td>NaN</td>\n",
       "    </tr>\n",
       "    <tr>\n",
       "      <th>689434</th>\n",
       "      <td>1604669235046</td>\n",
       "      <td>2020-11-06</td>\n",
       "      <td>13:27:15.046</td>\n",
       "      <td>344675</td>\n",
       "      <td>NaN</td>\n",
       "      <td>NaN</td>\n",
       "      <td>NaN</td>\n",
       "      <td>NaN</td>\n",
       "      <td>NaN</td>\n",
       "      <td>NaN</td>\n",
       "      <td>...</td>\n",
       "      <td>0.01</td>\n",
       "      <td>0.15</td>\n",
       "      <td>0.75</td>\n",
       "      <td>4.1</td>\n",
       "      <td>2.6</td>\n",
       "      <td>19.0</td>\n",
       "      <td>0.01</td>\n",
       "      <td>NaN</td>\n",
       "      <td>NaN</td>\n",
       "      <td>NaN</td>\n",
       "    </tr>\n",
       "    <tr>\n",
       "      <th>689435</th>\n",
       "      <td>1604669235937</td>\n",
       "      <td>2020-11-06</td>\n",
       "      <td>13:27:15.937</td>\n",
       "      <td>344676</td>\n",
       "      <td>0.22</td>\n",
       "      <td>0.22</td>\n",
       "      <td>0.05</td>\n",
       "      <td>164.0</td>\n",
       "      <td>0.0</td>\n",
       "      <td>150.0</td>\n",
       "      <td>...</td>\n",
       "      <td>NaN</td>\n",
       "      <td>NaN</td>\n",
       "      <td>NaN</td>\n",
       "      <td>NaN</td>\n",
       "      <td>NaN</td>\n",
       "      <td>NaN</td>\n",
       "      <td>NaN</td>\n",
       "      <td>NaN</td>\n",
       "      <td>NaN</td>\n",
       "      <td>NaN</td>\n",
       "    </tr>\n",
       "  </tbody>\n",
       "</table>\n",
       "<p>689436 rows × 47 columns</p>\n",
       "</div>"
      ],
      "text/plain": [
       "            Time [ms]        Date          Time  Rel.Time [s]  \\\n",
       "0       1604324559904  2020-11-02  13:42:39.904             0   \n",
       "1       1604324560029  2020-11-02  13:42:40.029             0   \n",
       "2       1604324560951  2020-11-02  13:42:40.951             1   \n",
       "3       1604324561060  2020-11-02  13:42:41.060             1   \n",
       "4       1604324561935  2020-11-02  13:42:41.935             2   \n",
       "...               ...         ...           ...           ...   \n",
       "689431  1604669233906  2020-11-06  13:27:13.906        344674   \n",
       "689432  1604669234031  2020-11-06  13:27:14.031        344674   \n",
       "689433  1604669234906  2020-11-06  13:27:14.906        344675   \n",
       "689434  1604669235046  2020-11-06  13:27:15.046        344675   \n",
       "689435  1604669235937  2020-11-06  13:27:15.937        344676   \n",
       "\n",
       "        5001|MVe [L/min]  5001|MVi [L/min]  5001|Cdyn [L/bar]  \\\n",
       "0                   0.20              0.21               0.21   \n",
       "1                    NaN               NaN                NaN   \n",
       "2                   0.20              0.21               0.22   \n",
       "3                    NaN               NaN                NaN   \n",
       "4                   0.20              0.21               0.26   \n",
       "...                  ...               ...                ...   \n",
       "689431              0.22              0.22               0.21   \n",
       "689432               NaN               NaN                NaN   \n",
       "689433              0.22              0.22               0.21   \n",
       "689434               NaN               NaN                NaN   \n",
       "689435              0.22              0.22               0.05   \n",
       "\n",
       "        5001|R [mbar/L/s]  5001|MVespon [L/min]  5001|Rpat [mbar/L/s]  ...  \\\n",
       "0                   146.0                   0.0                 128.0  ...   \n",
       "1                     NaN                   NaN                   NaN  ...   \n",
       "2                   146.0                   0.0                 128.0  ...   \n",
       "3                     NaN                   NaN                   NaN  ...   \n",
       "4                   154.0                   0.0                 136.0  ...   \n",
       "...                   ...                   ...                   ...  ...   \n",
       "689431              164.0                   0.0                 150.0  ...   \n",
       "689432                NaN                   NaN                   NaN  ...   \n",
       "689433              164.0                   0.0                 150.0  ...   \n",
       "689434                NaN                   NaN                   NaN  ...   \n",
       "689435              164.0                   0.0                 150.0  ...   \n",
       "\n",
       "        5001|TC [s]  5001|TCe [s]  5001|C20/Cdyn [no unit]  5001|VTe [mL]  \\\n",
       "0               NaN           NaN                      NaN            NaN   \n",
       "1              0.03          0.11                     0.55            3.4   \n",
       "2               NaN           NaN                      NaN            NaN   \n",
       "3              0.03          0.21                     0.55            8.2   \n",
       "4               NaN           NaN                      NaN            NaN   \n",
       "...             ...           ...                      ...            ...   \n",
       "689431          NaN           NaN                      NaN            NaN   \n",
       "689432         0.04          0.11                     0.75            3.1   \n",
       "689433          NaN           NaN                      NaN            NaN   \n",
       "689434         0.01          0.15                     0.75            4.1   \n",
       "689435          NaN           NaN                      NaN            NaN   \n",
       "\n",
       "        5001|VTi [mL]  5001|EIP [mbar]  5001|MVleak [L/min]  5001|Tispon [s]  \\\n",
       "0                 NaN              NaN                  NaN              NaN   \n",
       "1                 3.4             21.0                 0.00              NaN   \n",
       "2                 NaN              NaN                  NaN              NaN   \n",
       "3                 3.6             22.0                 0.00              NaN   \n",
       "4                 NaN              NaN                  NaN              NaN   \n",
       "...               ...              ...                  ...              ...   \n",
       "689431            NaN              NaN                  NaN              NaN   \n",
       "689432            2.6             18.0                 0.02              NaN   \n",
       "689433            NaN              NaN                  NaN              NaN   \n",
       "689434            2.6             19.0                 0.01              NaN   \n",
       "689435            NaN              NaN                  NaN              NaN   \n",
       "\n",
       "        5001|I:Espon (I-Part) [no unit]  5001|I:Espon (E-Part) [no unit]  \n",
       "0                                   NaN                              NaN  \n",
       "1                                   NaN                              NaN  \n",
       "2                                   NaN                              NaN  \n",
       "3                                   NaN                              NaN  \n",
       "4                                   NaN                              NaN  \n",
       "...                                 ...                              ...  \n",
       "689431                              NaN                              NaN  \n",
       "689432                              NaN                              NaN  \n",
       "689433                              NaN                              NaN  \n",
       "689434                              NaN                              NaN  \n",
       "689435                              NaN                              NaN  \n",
       "\n",
       "[689436 rows x 47 columns]"
      ]
     },
     "execution_count": 46,
     "metadata": {},
     "output_type": "execute_result"
    }
   ],
   "source": [
    "data"
   ]
  },
  {
   "cell_type": "code",
   "execution_count": 47,
   "metadata": {},
   "outputs": [
    {
     "name": "stdout",
     "output_type": "stream",
     "text": [
      "<class 'pandas.core.frame.DataFrame'>\n",
      "RangeIndex: 689436 entries, 0 to 689435\n",
      "Data columns (total 47 columns):\n",
      " #   Column                           Non-Null Count   Dtype  \n",
      "---  ------                           --------------   -----  \n",
      " 0   Time [ms]                        689436 non-null  int64  \n",
      " 1   Date                             689436 non-null  object \n",
      " 2   Time                             689436 non-null  object \n",
      " 3   Rel.Time [s]                     689436 non-null  int64  \n",
      " 4   5001|MVe [L/min]                 344633 non-null  float64\n",
      " 5   5001|MVi [L/min]                 344633 non-null  float64\n",
      " 6   5001|Cdyn [L/bar]                344073 non-null  float64\n",
      " 7   5001|R [mbar/L/s]                342099 non-null  float64\n",
      " 8   5001|MVespon [L/min]             344633 non-null  float64\n",
      " 9   5001|Rpat [mbar/L/s]             341398 non-null  float64\n",
      " 10  5001|MVemand [L/min]             344633 non-null  float64\n",
      " 11  5001|FlowDev [L/min]             344677 non-null  float64\n",
      " 12  5001|VTmand [mL]                 344567 non-null  float64\n",
      " 13  5001|r2 [no unit]                344538 non-null  float64\n",
      " 14  5001|VTispon [mL]                344634 non-null  float64\n",
      " 15  5001|Pmin [mbar]                 344677 non-null  float64\n",
      " 16  5001|Pmean [mbar]                344677 non-null  float64\n",
      " 17  5001|PEEP [mbar]                 344677 non-null  float64\n",
      " 18  5001|RRmand [1/min]              344677 non-null  float64\n",
      " 19  5001|PIP [mbar]                  344677 non-null  float64\n",
      " 20  5001|VTmand [L]                  344567 non-null  float64\n",
      " 21  5001|VTspon [L]                  344634 non-null  float64\n",
      " 22  5001|VTemand [mL]                344567 non-null  float64\n",
      " 23  5001|VTespon [mL]                344634 non-null  float64\n",
      " 24  5001|VTimand [mL]                344571 non-null  float64\n",
      " 25  5001|VT [mL]                     344567 non-null  float64\n",
      " 26  5001|% leak [%]                  344633 non-null  float64\n",
      " 27  5001|RRspon [1/min]              256267 non-null  float64\n",
      " 28  5001|% MVspon [%]                344633 non-null  float64\n",
      " 29  5001|MV [L/min]                  344633 non-null  float64\n",
      " 30  5001|RRtrig [1/min]              344633 non-null  float64\n",
      " 31  5001|RR [1/min]                  344633 non-null  float64\n",
      " 32  5001|I (I:E) [no unit]           344672 non-null  float64\n",
      " 33  5001|E (I:E) [no unit]           344672 non-null  float64\n",
      " 34  5001|FiO2 [%]                    344677 non-null  float64\n",
      " 35  5001|VTspon [mL]                 344633 non-null  float64\n",
      " 36  5001|E [mbar/L]                  340217 non-null  float64\n",
      " 37  5001|TC [s]                      344051 non-null  float64\n",
      " 38  5001|TCe [s]                     344566 non-null  float64\n",
      " 39  5001|C20/Cdyn [no unit]          339993 non-null  float64\n",
      " 40  5001|VTe [mL]                    344566 non-null  float64\n",
      " 41  5001|VTi [mL]                    344570 non-null  float64\n",
      " 42  5001|EIP [mbar]                  344676 non-null  float64\n",
      " 43  5001|MVleak [L/min]              344632 non-null  float64\n",
      " 44  5001|Tispon [s]                  10015 non-null   float64\n",
      " 45  5001|I:Espon (I-Part) [no unit]  9071 non-null    float64\n",
      " 46  5001|I:Espon (E-Part) [no unit]  9071 non-null    float64\n",
      "dtypes: float64(43), int64(2), object(2)\n",
      "memory usage: 247.2+ MB\n"
     ]
    }
   ],
   "source": [
    "data.info()"
   ]
  },
  {
   "cell_type": "code",
   "execution_count": 29,
   "metadata": {},
   "outputs": [],
   "source": [
    "pd.read_csv?"
   ]
  },
  {
   "cell_type": "markdown",
   "metadata": {},
   "source": [
    "There is only one positional argument, all other arguments are keyword arguments with default value\n",
    "\n",
    "Notice that lines can be broken inside parentheses."
   ]
  },
  {
   "cell_type": "code",
   "execution_count": 37,
   "metadata": {},
   "outputs": [
    {
     "data": {
      "text/html": [
       "<div>\n",
       "<style scoped>\n",
       "    .dataframe tbody tr th:only-of-type {\n",
       "        vertical-align: middle;\n",
       "    }\n",
       "\n",
       "    .dataframe tbody tr th {\n",
       "        vertical-align: top;\n",
       "    }\n",
       "\n",
       "    .dataframe thead th {\n",
       "        text-align: right;\n",
       "    }\n",
       "</style>\n",
       "<table border=\"1\" class=\"dataframe\">\n",
       "  <thead>\n",
       "    <tr style=\"text-align: right;\">\n",
       "      <th></th>\n",
       "      <th>Date</th>\n",
       "      <th>Time</th>\n",
       "      <th>5001|MVe [L/min]</th>\n",
       "      <th>5001|VTmand [mL]</th>\n",
       "    </tr>\n",
       "    <tr>\n",
       "      <th>Rel.Time [s]</th>\n",
       "      <th></th>\n",
       "      <th></th>\n",
       "      <th></th>\n",
       "      <th></th>\n",
       "    </tr>\n",
       "  </thead>\n",
       "  <tbody>\n",
       "    <tr>\n",
       "      <th>0</th>\n",
       "      <td>2020-11-02</td>\n",
       "      <td>13:42:39.904</td>\n",
       "      <td>0.20</td>\n",
       "      <td>3.4</td>\n",
       "    </tr>\n",
       "    <tr>\n",
       "      <th>0</th>\n",
       "      <td>2020-11-02</td>\n",
       "      <td>13:42:40.029</td>\n",
       "      <td>NaN</td>\n",
       "      <td>NaN</td>\n",
       "    </tr>\n",
       "    <tr>\n",
       "      <th>1</th>\n",
       "      <td>2020-11-02</td>\n",
       "      <td>13:42:40.951</td>\n",
       "      <td>0.20</td>\n",
       "      <td>8.2</td>\n",
       "    </tr>\n",
       "    <tr>\n",
       "      <th>1</th>\n",
       "      <td>2020-11-02</td>\n",
       "      <td>13:42:41.060</td>\n",
       "      <td>NaN</td>\n",
       "      <td>NaN</td>\n",
       "    </tr>\n",
       "    <tr>\n",
       "      <th>2</th>\n",
       "      <td>2020-11-02</td>\n",
       "      <td>13:42:41.935</td>\n",
       "      <td>0.20</td>\n",
       "      <td>4.1</td>\n",
       "    </tr>\n",
       "    <tr>\n",
       "      <th>...</th>\n",
       "      <td>...</td>\n",
       "      <td>...</td>\n",
       "      <td>...</td>\n",
       "      <td>...</td>\n",
       "    </tr>\n",
       "    <tr>\n",
       "      <th>344674</th>\n",
       "      <td>2020-11-06</td>\n",
       "      <td>13:27:13.906</td>\n",
       "      <td>0.22</td>\n",
       "      <td>3.1</td>\n",
       "    </tr>\n",
       "    <tr>\n",
       "      <th>344674</th>\n",
       "      <td>2020-11-06</td>\n",
       "      <td>13:27:14.031</td>\n",
       "      <td>NaN</td>\n",
       "      <td>NaN</td>\n",
       "    </tr>\n",
       "    <tr>\n",
       "      <th>344675</th>\n",
       "      <td>2020-11-06</td>\n",
       "      <td>13:27:14.906</td>\n",
       "      <td>0.22</td>\n",
       "      <td>4.2</td>\n",
       "    </tr>\n",
       "    <tr>\n",
       "      <th>344675</th>\n",
       "      <td>2020-11-06</td>\n",
       "      <td>13:27:15.046</td>\n",
       "      <td>NaN</td>\n",
       "      <td>NaN</td>\n",
       "    </tr>\n",
       "    <tr>\n",
       "      <th>344676</th>\n",
       "      <td>2020-11-06</td>\n",
       "      <td>13:27:15.937</td>\n",
       "      <td>0.22</td>\n",
       "      <td>0.9</td>\n",
       "    </tr>\n",
       "  </tbody>\n",
       "</table>\n",
       "<p>689436 rows × 4 columns</p>\n",
       "</div>"
      ],
      "text/plain": [
       "                    Date          Time  5001|MVe [L/min]  5001|VTmand [mL]\n",
       "Rel.Time [s]                                                              \n",
       "0             2020-11-02  13:42:39.904              0.20               3.4\n",
       "0             2020-11-02  13:42:40.029               NaN               NaN\n",
       "1             2020-11-02  13:42:40.951              0.20               8.2\n",
       "1             2020-11-02  13:42:41.060               NaN               NaN\n",
       "2             2020-11-02  13:42:41.935              0.20               4.1\n",
       "...                  ...           ...               ...               ...\n",
       "344674        2020-11-06  13:27:13.906              0.22               3.1\n",
       "344674        2020-11-06  13:27:14.031               NaN               NaN\n",
       "344675        2020-11-06  13:27:14.906              0.22               4.2\n",
       "344675        2020-11-06  13:27:15.046               NaN               NaN\n",
       "344676        2020-11-06  13:27:15.937              0.22               0.9\n",
       "\n",
       "[689436 rows x 4 columns]"
      ]
     },
     "execution_count": 37,
     "metadata": {},
     "output_type": "execute_result"
    }
   ],
   "source": [
    "data = pd.read_csv('data/CsvLogBase_2020-11-02_134238.904_slow_Measurement.csv.zip',\n",
    "            usecols = ['Date', 'Time', 'Rel.Time [s]','5001|MVe [L/min]', '5001|VTmand [mL]'],\n",
    "            index_col = ['Rel.Time [s]'])\n",
    "\n",
    "data"
   ]
  },
  {
   "cell_type": "code",
   "execution_count": 39,
   "metadata": {},
   "outputs": [
    {
     "name": "stdout",
     "output_type": "stream",
     "text": [
      "<class 'pandas.core.frame.DataFrame'>\n",
      "Int64Index: 689436 entries, 0 to 344676\n",
      "Data columns (total 4 columns):\n",
      " #   Column            Non-Null Count   Dtype  \n",
      "---  ------            --------------   -----  \n",
      " 0   Date              689436 non-null  object \n",
      " 1   Time              689436 non-null  object \n",
      " 2   5001|MVe [L/min]  344633 non-null  float64\n",
      " 3   5001|VTmand [mL]  344567 non-null  float64\n",
      "dtypes: float64(2), object(2)\n",
      "memory usage: 26.3+ MB\n"
     ]
    }
   ],
   "source": [
    "data.info()"
   ]
  },
  {
   "cell_type": "code",
   "execution_count": 42,
   "metadata": {},
   "outputs": [
    {
     "data": {
      "text/html": [
       "<div>\n",
       "<style scoped>\n",
       "    .dataframe tbody tr th:only-of-type {\n",
       "        vertical-align: middle;\n",
       "    }\n",
       "\n",
       "    .dataframe tbody tr th {\n",
       "        vertical-align: top;\n",
       "    }\n",
       "\n",
       "    .dataframe thead th {\n",
       "        text-align: right;\n",
       "    }\n",
       "</style>\n",
       "<table border=\"1\" class=\"dataframe\">\n",
       "  <thead>\n",
       "    <tr style=\"text-align: right;\">\n",
       "      <th></th>\n",
       "      <th>Date_Time</th>\n",
       "      <th>5001|MVe [L/min]</th>\n",
       "      <th>5001|VTmand [mL]</th>\n",
       "    </tr>\n",
       "    <tr>\n",
       "      <th>Rel.Time [s]</th>\n",
       "      <th></th>\n",
       "      <th></th>\n",
       "      <th></th>\n",
       "    </tr>\n",
       "  </thead>\n",
       "  <tbody>\n",
       "    <tr>\n",
       "      <th>0</th>\n",
       "      <td>2020-11-02 13:42:39.904</td>\n",
       "      <td>0.20</td>\n",
       "      <td>3.4</td>\n",
       "    </tr>\n",
       "    <tr>\n",
       "      <th>0</th>\n",
       "      <td>2020-11-02 13:42:40.029</td>\n",
       "      <td>NaN</td>\n",
       "      <td>NaN</td>\n",
       "    </tr>\n",
       "    <tr>\n",
       "      <th>1</th>\n",
       "      <td>2020-11-02 13:42:40.951</td>\n",
       "      <td>0.20</td>\n",
       "      <td>8.2</td>\n",
       "    </tr>\n",
       "    <tr>\n",
       "      <th>1</th>\n",
       "      <td>2020-11-02 13:42:41.060</td>\n",
       "      <td>NaN</td>\n",
       "      <td>NaN</td>\n",
       "    </tr>\n",
       "    <tr>\n",
       "      <th>2</th>\n",
       "      <td>2020-11-02 13:42:41.935</td>\n",
       "      <td>0.20</td>\n",
       "      <td>4.1</td>\n",
       "    </tr>\n",
       "    <tr>\n",
       "      <th>...</th>\n",
       "      <td>...</td>\n",
       "      <td>...</td>\n",
       "      <td>...</td>\n",
       "    </tr>\n",
       "    <tr>\n",
       "      <th>344674</th>\n",
       "      <td>2020-11-06 13:27:13.906</td>\n",
       "      <td>0.22</td>\n",
       "      <td>3.1</td>\n",
       "    </tr>\n",
       "    <tr>\n",
       "      <th>344674</th>\n",
       "      <td>2020-11-06 13:27:14.031</td>\n",
       "      <td>NaN</td>\n",
       "      <td>NaN</td>\n",
       "    </tr>\n",
       "    <tr>\n",
       "      <th>344675</th>\n",
       "      <td>2020-11-06 13:27:14.906</td>\n",
       "      <td>0.22</td>\n",
       "      <td>4.2</td>\n",
       "    </tr>\n",
       "    <tr>\n",
       "      <th>344675</th>\n",
       "      <td>2020-11-06 13:27:15.046</td>\n",
       "      <td>NaN</td>\n",
       "      <td>NaN</td>\n",
       "    </tr>\n",
       "    <tr>\n",
       "      <th>344676</th>\n",
       "      <td>2020-11-06 13:27:15.937</td>\n",
       "      <td>0.22</td>\n",
       "      <td>0.9</td>\n",
       "    </tr>\n",
       "  </tbody>\n",
       "</table>\n",
       "<p>689436 rows × 3 columns</p>\n",
       "</div>"
      ],
      "text/plain": [
       "                           Date_Time  5001|MVe [L/min]  5001|VTmand [mL]\n",
       "Rel.Time [s]                                                            \n",
       "0            2020-11-02 13:42:39.904              0.20               3.4\n",
       "0            2020-11-02 13:42:40.029               NaN               NaN\n",
       "1            2020-11-02 13:42:40.951              0.20               8.2\n",
       "1            2020-11-02 13:42:41.060               NaN               NaN\n",
       "2            2020-11-02 13:42:41.935              0.20               4.1\n",
       "...                              ...               ...               ...\n",
       "344674       2020-11-06 13:27:13.906              0.22               3.1\n",
       "344674       2020-11-06 13:27:14.031               NaN               NaN\n",
       "344675       2020-11-06 13:27:14.906              0.22               4.2\n",
       "344675       2020-11-06 13:27:15.046               NaN               NaN\n",
       "344676       2020-11-06 13:27:15.937              0.22               0.9\n",
       "\n",
       "[689436 rows x 3 columns]"
      ]
     },
     "execution_count": 42,
     "metadata": {},
     "output_type": "execute_result"
    }
   ],
   "source": [
    "data = pd.read_csv('data/CsvLogBase_2020-11-02_134238.904_slow_Measurement.csv.zip',\n",
    "            usecols = ['Date', 'Time', 'Rel.Time [s]','5001|MVe [L/min]', '5001|VTmand [mL]'],\n",
    "            index_col = ['Rel.Time [s]'], parse_dates = [[0,1]])\n",
    "\n",
    "data"
   ]
  },
  {
   "cell_type": "code",
   "execution_count": 43,
   "metadata": {},
   "outputs": [
    {
     "name": "stdout",
     "output_type": "stream",
     "text": [
      "<class 'pandas.core.frame.DataFrame'>\n",
      "Int64Index: 689436 entries, 0 to 344676\n",
      "Data columns (total 3 columns):\n",
      " #   Column            Non-Null Count   Dtype         \n",
      "---  ------            --------------   -----         \n",
      " 0   Date_Time         689436 non-null  datetime64[ns]\n",
      " 1   5001|MVe [L/min]  344633 non-null  float64       \n",
      " 2   5001|VTmand [mL]  344567 non-null  float64       \n",
      "dtypes: datetime64[ns](1), float64(2)\n",
      "memory usage: 21.0 MB\n"
     ]
    }
   ],
   "source": [
    "data.info()"
   ]
  },
  {
   "cell_type": "code",
   "execution_count": null,
   "metadata": {},
   "outputs": [],
   "source": []
  }
 ],
 "metadata": {
  "anaconda-cloud": {},
  "kernelspec": {
   "display_name": "Python 3",
   "language": "python",
   "name": "python3"
  },
  "language_info": {
   "codemirror_mode": {
    "name": "ipython",
    "version": 3
   },
   "file_extension": ".py",
   "mimetype": "text/x-python",
   "name": "python",
   "nbconvert_exporter": "python",
   "pygments_lexer": "ipython3",
   "version": "3.7.9"
  }
 },
 "nbformat": 4,
 "nbformat_minor": 2
}
