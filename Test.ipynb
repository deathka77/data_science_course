{
 "cells": [
  {
   "cell_type": "markdown",
   "metadata": {},
   "source": [
    "![alt text](./pageheader_rose2_babies.jpg)"
   ]
  },
  {
   "cell_type": "markdown",
   "metadata": {},
   "source": [
    "# Data Science in Medicine using Python\n",
    "\n",
    "### Author: Dr Gusztav Belteki"
   ]
  },
  {
   "cell_type": "markdown",
   "metadata": {},
   "source": [
    "# Test Notebook\n",
    "\n",
    "\n",
    "In this Notebook we will test if you have set up your computer for the course correctly.\n",
    "\n",
    "Please highlight the next field by clicking with your mouse outside the box, for example just under `In`. A frame should appear around the box and its colour should be gray. \n",
    "\n",
    "(If you clicked inside the box, the frame is green. Click outside or press `esc`.)\n",
    "\n",
    "Now press `Shift + Enter`"
   ]
  },
  {
   "cell_type": "code",
   "execution_count": 1,
   "metadata": {},
   "outputs": [],
   "source": [
    "import sys\n",
    "import numpy as np\n",
    "import pandas as pd\n",
    "import matplotlib as mpl\n",
    "import scipy as sc\n",
    "import seaborn as sbs\n",
    "import sklearn as sklearn\n",
    "import nltk"
   ]
  },
  {
   "cell_type": "markdown",
   "metadata": {},
   "source": [
    "For a couple second an asterisk will be shown while importing these packages is on the way. \n",
    "\n",
    "Press Shift + Enter again"
   ]
  },
  {
   "cell_type": "code",
   "execution_count": 2,
   "metadata": {},
   "outputs": [
    {
     "name": "stdout",
     "output_type": "stream",
     "text": [
      "Python version: 3.7.9 (default, Aug 31 2020, 07:22:35) \n",
      "[Clang 10.0.0 ]\n",
      "pandas version: 1.1.3\n",
      "matplotlib version: 3.3.2\n",
      "numPy version: 1.19.2\n",
      "seaborn version: 0.11.0\n",
      "seaborn version: 0.11.0\n",
      "scikit-learn version: 0.23.2\n",
      "nltk version: 3.5\n"
     ]
    }
   ],
   "source": [
    "print(f'Python version: {sys.version}')\n",
    "print(f'pandas version: {pd.__version__}')\n",
    "print(f'matplotlib version: {mpl.__version__}')\n",
    "print(f'numPy version: {np.__version__}')\n",
    "print(f'seaborn version: {sbs.__version__}')\n",
    "print(f'seaborn version: {sbs.__version__}')\n",
    "print(f'scikit-learn version: {sklearn.__version__}')\n",
    "print(f'nltk version: {nltk.__version__}')"
   ]
  },
  {
   "cell_type": "markdown",
   "metadata": {},
   "source": [
    "The output should be something like this. \n",
    "\n",
    "`Python version: 3.7.9 (default, Aug 31 2020, 07:22:35) \n",
    "[Clang 10.0.0 ]\n",
    "pandas version: 1.1.3\n",
    "matplotlib version: 3.3.2\n",
    "numPy version: 1.19.2\n",
    "seaborn version: 0.11.0\n",
    "seaborn version: 0.11.0\n",
    "scikit-learn version: 0.23.2\n",
    "nltk version: 3.5`"
   ]
  },
  {
   "cell_type": "markdown",
   "metadata": {},
   "source": [
    "If you get this output you are all set for the course.\n",
    "\n",
    "Your Python version should be 3.7 or higher."
   ]
  },
  {
   "cell_type": "code",
   "execution_count": null,
   "metadata": {},
   "outputs": [],
   "source": []
  }
 ],
 "metadata": {
  "anaconda-cloud": {},
  "kernelspec": {
   "display_name": "Python 3",
   "language": "python",
   "name": "python3"
  },
  "language_info": {
   "codemirror_mode": {
    "name": "ipython",
    "version": 3
   },
   "file_extension": ".py",
   "mimetype": "text/x-python",
   "name": "python",
   "nbconvert_exporter": "python",
   "pygments_lexer": "ipython3",
   "version": "3.7.9"
  }
 },
 "nbformat": 4,
 "nbformat_minor": 2
}
