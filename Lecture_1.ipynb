{
 "cells": [
  {
   "cell_type": "markdown",
   "metadata": {},
   "source": [
    "![alt text](./pageheader_rose2_babies.jpg)"
   ]
  },
  {
   "cell_type": "markdown",
   "metadata": {},
   "source": [
    "# Data Science in Medicine using Python\n",
    "\n",
    "### Author: Dr Gusztav Belteki"
   ]
  },
  {
   "cell_type": "markdown",
   "metadata": {},
   "source": [
    "## 1. Wellcome the the course\n",
    "\n",
    "- Housekeeping"
   ]
  },
  {
   "cell_type": "markdown",
   "metadata": {},
   "source": [
    "## 2. Scope of the course\n",
    "\n",
    "- Introductory course\n",
    "- Focus on analysing clinical data\n",
    "- No previous programming skills required\n",
    "- Python programming on the fly\n",
    "- Clinical datasets\n",
    "- Basic data science concepts"
   ]
  },
  {
   "cell_type": "markdown",
   "metadata": {},
   "source": [
    "## 3. Course outline\n",
    "\n",
    "- Lectures\n",
    "- Consultations\n",
    "- Self learning\n",
    "- Homework and assignments\n",
    "\n",
    "https://github.com/belteki/data_science_course"
   ]
  },
  {
   "cell_type": "markdown",
   "metadata": {},
   "source": [
    "## 4. Rationale to teach data science and programming to clinicians\n",
    "\n",
    "- Why is Excel not enough ?\n",
    "    - Large datasets\n",
    "    - Problems with reproducibility\n",
    "    - Clinical data are not always tabular\n",
    "  \n",
    "  \n",
    "- Scripting languages in data Science\n",
    "    \n",
    "    - Not free\n",
    "        - Matlab\n",
    "        - S: \"grown-up\" version of SPSS\n",
    "        - Stata: focused on statistics\n",
    "    \n",
    "    - Free tools:\n",
    "        - R: focused on statistics\n",
    "        - Python: increasingly used for data science\n",
    "\n",
    "\n",
    "- Why Python ?\n",
    "    - Syntax easier to read, shallow learning curve\n",
    "    - Python is a general purpose computer language\n",
    "    - The first language is always the most difficult one"
   ]
  },
  {
   "cell_type": "markdown",
   "metadata": {},
   "source": [
    "https://towardsdatascience.com/programming-languages-for-data-scientists-afde2eaf5cc5\n",
    "\n",
    "![alt text](./data_science_languages.png)"
   ]
  },
  {
   "cell_type": "markdown",
   "metadata": {},
   "source": [
    "## 5. Sources of information"
   ]
  },
  {
   "cell_type": "markdown",
   "metadata": {},
   "source": [
    "- [Link to basic tutorial on the Python official website](https://wiki.python.org/moin/BeginnersGuide)\n",
    "- [This book](https://jakevdp.github.io/PythonDataScienceHandbook/) is freely available and it is relatively basic, it will be easy to read after this course\n",
    "- Use Google search, e.g., _\"how to use logarithmic y axis in matplotlib\"_"
   ]
  },
  {
   "cell_type": "markdown",
   "metadata": {},
   "source": [
    "## 6. Whetting your appetite\n",
    "\n",
    "Loading a large data table with hundreds of thousands of rows directly from a compressed file within a couple seconds.\n",
    "\n",
    "\n",
    "`csv` = **comma separated value**\n",
    "\n",
    "\n",
    "`date,time,heart_rate,satuation\n",
    "2021-01-21,13:43:14,125,96\n",
    "2021-01-21,13:45:145,130,94\n",
    "...`\n",
    "\n",
    "\n",
    "Other separators:\n",
    "- tab delimited\n",
    "- semicolon\n",
    "- colon"
   ]
  },
  {
   "cell_type": "code",
   "execution_count": 46,
   "metadata": {},
   "outputs": [
    {
     "name": "stdout",
     "output_type": "stream",
     "text": [
      "<class 'pandas.core.frame.DataFrame'>\n",
      "RangeIndex: 689436 entries, 0 to 689435\n",
      "Data columns (total 47 columns):\n",
      " #   Column                           Non-Null Count   Dtype  \n",
      "---  ------                           --------------   -----  \n",
      " 0   Time [ms]                        689436 non-null  int64  \n",
      " 1   Date                             689436 non-null  object \n",
      " 2   Time                             689436 non-null  object \n",
      " 3   Rel.Time [s]                     689436 non-null  int64  \n",
      " 4   5001|MVe [L/min]                 344633 non-null  float64\n",
      " 5   5001|MVi [L/min]                 344633 non-null  float64\n",
      " 6   5001|Cdyn [L/bar]                344073 non-null  float64\n",
      " 7   5001|R [mbar/L/s]                342099 non-null  float64\n",
      " 8   5001|MVespon [L/min]             344633 non-null  float64\n",
      " 9   5001|Rpat [mbar/L/s]             341398 non-null  float64\n",
      " 10  5001|MVemand [L/min]             344633 non-null  float64\n",
      " 11  5001|FlowDev [L/min]             344677 non-null  float64\n",
      " 12  5001|VTmand [mL]                 344567 non-null  float64\n",
      " 13  5001|r2 [no unit]                344538 non-null  float64\n",
      " 14  5001|VTispon [mL]                344634 non-null  float64\n",
      " 15  5001|Pmin [mbar]                 344677 non-null  float64\n",
      " 16  5001|Pmean [mbar]                344677 non-null  float64\n",
      " 17  5001|PEEP [mbar]                 344677 non-null  float64\n",
      " 18  5001|RRmand [1/min]              344677 non-null  float64\n",
      " 19  5001|PIP [mbar]                  344677 non-null  float64\n",
      " 20  5001|VTmand [L]                  344567 non-null  float64\n",
      " 21  5001|VTspon [L]                  344634 non-null  float64\n",
      " 22  5001|VTemand [mL]                344567 non-null  float64\n",
      " 23  5001|VTespon [mL]                344634 non-null  float64\n",
      " 24  5001|VTimand [mL]                344571 non-null  float64\n",
      " 25  5001|VT [mL]                     344567 non-null  float64\n",
      " 26  5001|% leak [%]                  344633 non-null  float64\n",
      " 27  5001|RRspon [1/min]              256267 non-null  float64\n",
      " 28  5001|% MVspon [%]                344633 non-null  float64\n",
      " 29  5001|MV [L/min]                  344633 non-null  float64\n",
      " 30  5001|RRtrig [1/min]              344633 non-null  float64\n",
      " 31  5001|RR [1/min]                  344633 non-null  float64\n",
      " 32  5001|I (I:E) [no unit]           344672 non-null  float64\n",
      " 33  5001|E (I:E) [no unit]           344672 non-null  float64\n",
      " 34  5001|FiO2 [%]                    344677 non-null  float64\n",
      " 35  5001|VTspon [mL]                 344633 non-null  float64\n",
      " 36  5001|E [mbar/L]                  340217 non-null  float64\n",
      " 37  5001|TC [s]                      344051 non-null  float64\n",
      " 38  5001|TCe [s]                     344566 non-null  float64\n",
      " 39  5001|C20/Cdyn [no unit]          339993 non-null  float64\n",
      " 40  5001|VTe [mL]                    344566 non-null  float64\n",
      " 41  5001|VTi [mL]                    344570 non-null  float64\n",
      " 42  5001|EIP [mbar]                  344676 non-null  float64\n",
      " 43  5001|MVleak [L/min]              344632 non-null  float64\n",
      " 44  5001|Tispon [s]                  10015 non-null   float64\n",
      " 45  5001|I:Espon (I-Part) [no unit]  9071 non-null    float64\n",
      " 46  5001|I:Espon (E-Part) [no unit]  9071 non-null    float64\n",
      "dtypes: float64(43), int64(2), object(2)\n",
      "memory usage: 247.2+ MB\n",
      "CPU times: user 2.42 s, sys: 341 ms, total: 2.76 s\n",
      "Wall time: 2.79 s\n"
     ]
    }
   ],
   "source": [
    "%%time\n",
    "import pandas as pd\n",
    "import os\n",
    "data = pd.read_csv(os.path.join('data', 'CsvLogBase_2020-11-02_134238.904_slow_Measurement.csv.zip'))\n",
    "data.info()"
   ]
  },
  {
   "cell_type": "markdown",
   "metadata": {},
   "source": [
    "Data can be inspected directly in the notebook."
   ]
  },
  {
   "cell_type": "code",
   "execution_count": 2,
   "metadata": {},
   "outputs": [
    {
     "data": {
      "text/html": [
       "<div>\n",
       "<style scoped>\n",
       "    .dataframe tbody tr th:only-of-type {\n",
       "        vertical-align: middle;\n",
       "    }\n",
       "\n",
       "    .dataframe tbody tr th {\n",
       "        vertical-align: top;\n",
       "    }\n",
       "\n",
       "    .dataframe thead th {\n",
       "        text-align: right;\n",
       "    }\n",
       "</style>\n",
       "<table border=\"1\" class=\"dataframe\">\n",
       "  <thead>\n",
       "    <tr style=\"text-align: right;\">\n",
       "      <th></th>\n",
       "      <th>Time [ms]</th>\n",
       "      <th>Date</th>\n",
       "      <th>Time</th>\n",
       "      <th>Rel.Time [s]</th>\n",
       "      <th>5001|MVe [L/min]</th>\n",
       "      <th>5001|MVi [L/min]</th>\n",
       "      <th>5001|Cdyn [L/bar]</th>\n",
       "      <th>5001|R [mbar/L/s]</th>\n",
       "      <th>5001|MVespon [L/min]</th>\n",
       "      <th>5001|Rpat [mbar/L/s]</th>\n",
       "      <th>...</th>\n",
       "      <th>5001|TC [s]</th>\n",
       "      <th>5001|TCe [s]</th>\n",
       "      <th>5001|C20/Cdyn [no unit]</th>\n",
       "      <th>5001|VTe [mL]</th>\n",
       "      <th>5001|VTi [mL]</th>\n",
       "      <th>5001|EIP [mbar]</th>\n",
       "      <th>5001|MVleak [L/min]</th>\n",
       "      <th>5001|Tispon [s]</th>\n",
       "      <th>5001|I:Espon (I-Part) [no unit]</th>\n",
       "      <th>5001|I:Espon (E-Part) [no unit]</th>\n",
       "    </tr>\n",
       "  </thead>\n",
       "  <tbody>\n",
       "    <tr>\n",
       "      <th>0</th>\n",
       "      <td>1604324559904</td>\n",
       "      <td>2020-11-02</td>\n",
       "      <td>13:42:39.904</td>\n",
       "      <td>0</td>\n",
       "      <td>0.2</td>\n",
       "      <td>0.21</td>\n",
       "      <td>0.21</td>\n",
       "      <td>146.0</td>\n",
       "      <td>0.0</td>\n",
       "      <td>128.0</td>\n",
       "      <td>...</td>\n",
       "      <td>NaN</td>\n",
       "      <td>NaN</td>\n",
       "      <td>NaN</td>\n",
       "      <td>NaN</td>\n",
       "      <td>NaN</td>\n",
       "      <td>NaN</td>\n",
       "      <td>NaN</td>\n",
       "      <td>NaN</td>\n",
       "      <td>NaN</td>\n",
       "      <td>NaN</td>\n",
       "    </tr>\n",
       "    <tr>\n",
       "      <th>1</th>\n",
       "      <td>1604324560029</td>\n",
       "      <td>2020-11-02</td>\n",
       "      <td>13:42:40.029</td>\n",
       "      <td>0</td>\n",
       "      <td>NaN</td>\n",
       "      <td>NaN</td>\n",
       "      <td>NaN</td>\n",
       "      <td>NaN</td>\n",
       "      <td>NaN</td>\n",
       "      <td>NaN</td>\n",
       "      <td>...</td>\n",
       "      <td>0.03</td>\n",
       "      <td>0.11</td>\n",
       "      <td>0.55</td>\n",
       "      <td>3.4</td>\n",
       "      <td>3.4</td>\n",
       "      <td>21.0</td>\n",
       "      <td>0.0</td>\n",
       "      <td>NaN</td>\n",
       "      <td>NaN</td>\n",
       "      <td>NaN</td>\n",
       "    </tr>\n",
       "    <tr>\n",
       "      <th>2</th>\n",
       "      <td>1604324560951</td>\n",
       "      <td>2020-11-02</td>\n",
       "      <td>13:42:40.951</td>\n",
       "      <td>1</td>\n",
       "      <td>0.2</td>\n",
       "      <td>0.21</td>\n",
       "      <td>0.22</td>\n",
       "      <td>146.0</td>\n",
       "      <td>0.0</td>\n",
       "      <td>128.0</td>\n",
       "      <td>...</td>\n",
       "      <td>NaN</td>\n",
       "      <td>NaN</td>\n",
       "      <td>NaN</td>\n",
       "      <td>NaN</td>\n",
       "      <td>NaN</td>\n",
       "      <td>NaN</td>\n",
       "      <td>NaN</td>\n",
       "      <td>NaN</td>\n",
       "      <td>NaN</td>\n",
       "      <td>NaN</td>\n",
       "    </tr>\n",
       "    <tr>\n",
       "      <th>3</th>\n",
       "      <td>1604324561060</td>\n",
       "      <td>2020-11-02</td>\n",
       "      <td>13:42:41.060</td>\n",
       "      <td>1</td>\n",
       "      <td>NaN</td>\n",
       "      <td>NaN</td>\n",
       "      <td>NaN</td>\n",
       "      <td>NaN</td>\n",
       "      <td>NaN</td>\n",
       "      <td>NaN</td>\n",
       "      <td>...</td>\n",
       "      <td>0.03</td>\n",
       "      <td>0.21</td>\n",
       "      <td>0.55</td>\n",
       "      <td>8.2</td>\n",
       "      <td>3.6</td>\n",
       "      <td>22.0</td>\n",
       "      <td>0.0</td>\n",
       "      <td>NaN</td>\n",
       "      <td>NaN</td>\n",
       "      <td>NaN</td>\n",
       "    </tr>\n",
       "    <tr>\n",
       "      <th>4</th>\n",
       "      <td>1604324561935</td>\n",
       "      <td>2020-11-02</td>\n",
       "      <td>13:42:41.935</td>\n",
       "      <td>2</td>\n",
       "      <td>0.2</td>\n",
       "      <td>0.21</td>\n",
       "      <td>0.26</td>\n",
       "      <td>154.0</td>\n",
       "      <td>0.0</td>\n",
       "      <td>136.0</td>\n",
       "      <td>...</td>\n",
       "      <td>NaN</td>\n",
       "      <td>NaN</td>\n",
       "      <td>NaN</td>\n",
       "      <td>NaN</td>\n",
       "      <td>NaN</td>\n",
       "      <td>NaN</td>\n",
       "      <td>NaN</td>\n",
       "      <td>NaN</td>\n",
       "      <td>NaN</td>\n",
       "      <td>NaN</td>\n",
       "    </tr>\n",
       "  </tbody>\n",
       "</table>\n",
       "<p>5 rows × 47 columns</p>\n",
       "</div>"
      ],
      "text/plain": [
       "       Time [ms]        Date          Time  Rel.Time [s]  5001|MVe [L/min]  \\\n",
       "0  1604324559904  2020-11-02  13:42:39.904             0               0.2   \n",
       "1  1604324560029  2020-11-02  13:42:40.029             0               NaN   \n",
       "2  1604324560951  2020-11-02  13:42:40.951             1               0.2   \n",
       "3  1604324561060  2020-11-02  13:42:41.060             1               NaN   \n",
       "4  1604324561935  2020-11-02  13:42:41.935             2               0.2   \n",
       "\n",
       "   5001|MVi [L/min]  5001|Cdyn [L/bar]  5001|R [mbar/L/s]  \\\n",
       "0              0.21               0.21              146.0   \n",
       "1               NaN                NaN                NaN   \n",
       "2              0.21               0.22              146.0   \n",
       "3               NaN                NaN                NaN   \n",
       "4              0.21               0.26              154.0   \n",
       "\n",
       "   5001|MVespon [L/min]  5001|Rpat [mbar/L/s]  ...  5001|TC [s]  5001|TCe [s]  \\\n",
       "0                   0.0                 128.0  ...          NaN           NaN   \n",
       "1                   NaN                   NaN  ...         0.03          0.11   \n",
       "2                   0.0                 128.0  ...          NaN           NaN   \n",
       "3                   NaN                   NaN  ...         0.03          0.21   \n",
       "4                   0.0                 136.0  ...          NaN           NaN   \n",
       "\n",
       "   5001|C20/Cdyn [no unit]  5001|VTe [mL]  5001|VTi [mL]  5001|EIP [mbar]  \\\n",
       "0                      NaN            NaN            NaN              NaN   \n",
       "1                     0.55            3.4            3.4             21.0   \n",
       "2                      NaN            NaN            NaN              NaN   \n",
       "3                     0.55            8.2            3.6             22.0   \n",
       "4                      NaN            NaN            NaN              NaN   \n",
       "\n",
       "   5001|MVleak [L/min]  5001|Tispon [s]  5001|I:Espon (I-Part) [no unit]  \\\n",
       "0                  NaN              NaN                              NaN   \n",
       "1                  0.0              NaN                              NaN   \n",
       "2                  NaN              NaN                              NaN   \n",
       "3                  0.0              NaN                              NaN   \n",
       "4                  NaN              NaN                              NaN   \n",
       "\n",
       "   5001|I:Espon (E-Part) [no unit]  \n",
       "0                              NaN  \n",
       "1                              NaN  \n",
       "2                              NaN  \n",
       "3                              NaN  \n",
       "4                              NaN  \n",
       "\n",
       "[5 rows x 47 columns]"
      ]
     },
     "execution_count": 2,
     "metadata": {},
     "output_type": "execute_result"
    }
   ],
   "source": [
    "data.head()"
   ]
  },
  {
   "cell_type": "markdown",
   "metadata": {},
   "source": [
    "Descriptive statistics on large datasets"
   ]
  },
  {
   "cell_type": "code",
   "execution_count": 48,
   "metadata": {},
   "outputs": [
    {
     "data": {
      "text/html": [
       "<div>\n",
       "<style scoped>\n",
       "    .dataframe tbody tr th:only-of-type {\n",
       "        vertical-align: middle;\n",
       "    }\n",
       "\n",
       "    .dataframe tbody tr th {\n",
       "        vertical-align: top;\n",
       "    }\n",
       "\n",
       "    .dataframe thead th {\n",
       "        text-align: right;\n",
       "    }\n",
       "</style>\n",
       "<table border=\"1\" class=\"dataframe\">\n",
       "  <thead>\n",
       "    <tr style=\"text-align: right;\">\n",
       "      <th></th>\n",
       "      <th>Time [ms]</th>\n",
       "      <th>Rel.Time [s]</th>\n",
       "      <th>5001|MVe [L/min]</th>\n",
       "      <th>5001|MVi [L/min]</th>\n",
       "      <th>5001|Cdyn [L/bar]</th>\n",
       "      <th>5001|R [mbar/L/s]</th>\n",
       "      <th>5001|MVespon [L/min]</th>\n",
       "      <th>5001|Rpat [mbar/L/s]</th>\n",
       "      <th>5001|MVemand [L/min]</th>\n",
       "      <th>5001|FlowDev [L/min]</th>\n",
       "      <th>...</th>\n",
       "      <th>5001|TC [s]</th>\n",
       "      <th>5001|TCe [s]</th>\n",
       "      <th>5001|C20/Cdyn [no unit]</th>\n",
       "      <th>5001|VTe [mL]</th>\n",
       "      <th>5001|VTi [mL]</th>\n",
       "      <th>5001|EIP [mbar]</th>\n",
       "      <th>5001|MVleak [L/min]</th>\n",
       "      <th>5001|Tispon [s]</th>\n",
       "      <th>5001|I:Espon (I-Part) [no unit]</th>\n",
       "      <th>5001|I:Espon (E-Part) [no unit]</th>\n",
       "    </tr>\n",
       "  </thead>\n",
       "  <tbody>\n",
       "    <tr>\n",
       "      <th>count</th>\n",
       "      <td>6.894360e+05</td>\n",
       "      <td>689436.000000</td>\n",
       "      <td>344633.000000</td>\n",
       "      <td>344633.000000</td>\n",
       "      <td>344073.000000</td>\n",
       "      <td>342099.000000</td>\n",
       "      <td>344633.000000</td>\n",
       "      <td>341398.000000</td>\n",
       "      <td>344633.000000</td>\n",
       "      <td>344677.000000</td>\n",
       "      <td>...</td>\n",
       "      <td>344051.000000</td>\n",
       "      <td>344566.000000</td>\n",
       "      <td>339993.000000</td>\n",
       "      <td>344566.000000</td>\n",
       "      <td>344570.000000</td>\n",
       "      <td>344676.000000</td>\n",
       "      <td>344632.000000</td>\n",
       "      <td>10015.000000</td>\n",
       "      <td>9071.000000</td>\n",
       "      <td>9071.000000</td>\n",
       "    </tr>\n",
       "    <tr>\n",
       "      <th>mean</th>\n",
       "      <td>1.604497e+12</td>\n",
       "      <td>172337.580989</td>\n",
       "      <td>0.223555</td>\n",
       "      <td>0.264366</td>\n",
       "      <td>0.245819</td>\n",
       "      <td>274.040235</td>\n",
       "      <td>0.000078</td>\n",
       "      <td>257.375030</td>\n",
       "      <td>0.223284</td>\n",
       "      <td>7.125048</td>\n",
       "      <td>...</td>\n",
       "      <td>0.067510</td>\n",
       "      <td>0.144449</td>\n",
       "      <td>0.717213</td>\n",
       "      <td>3.718690</td>\n",
       "      <td>4.341298</td>\n",
       "      <td>23.860487</td>\n",
       "      <td>0.045116</td>\n",
       "      <td>0.047129</td>\n",
       "      <td>1.018212</td>\n",
       "      <td>7.191357</td>\n",
       "    </tr>\n",
       "    <tr>\n",
       "      <th>std</th>\n",
       "      <td>9.949949e+07</td>\n",
       "      <td>99499.484827</td>\n",
       "      <td>0.029445</td>\n",
       "      <td>0.142057</td>\n",
       "      <td>0.171054</td>\n",
       "      <td>165.355264</td>\n",
       "      <td>0.000930</td>\n",
       "      <td>167.911146</td>\n",
       "      <td>0.029531</td>\n",
       "      <td>0.722707</td>\n",
       "      <td>...</td>\n",
       "      <td>0.105278</td>\n",
       "      <td>0.049657</td>\n",
       "      <td>0.359153</td>\n",
       "      <td>0.779251</td>\n",
       "      <td>1.049905</td>\n",
       "      <td>4.350903</td>\n",
       "      <td>0.318332</td>\n",
       "      <td>0.008108</td>\n",
       "      <td>0.224628</td>\n",
       "      <td>1.889433</td>\n",
       "    </tr>\n",
       "    <tr>\n",
       "      <th>min</th>\n",
       "      <td>1.604325e+12</td>\n",
       "      <td>0.000000</td>\n",
       "      <td>0.000000</td>\n",
       "      <td>0.000000</td>\n",
       "      <td>0.000000</td>\n",
       "      <td>29.400000</td>\n",
       "      <td>0.000000</td>\n",
       "      <td>15.800000</td>\n",
       "      <td>0.000000</td>\n",
       "      <td>6.400000</td>\n",
       "      <td>...</td>\n",
       "      <td>0.000000</td>\n",
       "      <td>0.010000</td>\n",
       "      <td>0.230000</td>\n",
       "      <td>0.600000</td>\n",
       "      <td>0.600000</td>\n",
       "      <td>1.800000</td>\n",
       "      <td>0.000000</td>\n",
       "      <td>0.040000</td>\n",
       "      <td>1.000000</td>\n",
       "      <td>1.000000</td>\n",
       "    </tr>\n",
       "    <tr>\n",
       "      <th>25%</th>\n",
       "      <td>1.604411e+12</td>\n",
       "      <td>86168.000000</td>\n",
       "      <td>0.210000</td>\n",
       "      <td>0.230000</td>\n",
       "      <td>0.210000</td>\n",
       "      <td>162.000000</td>\n",
       "      <td>0.000000</td>\n",
       "      <td>143.000000</td>\n",
       "      <td>0.210000</td>\n",
       "      <td>6.900000</td>\n",
       "      <td>...</td>\n",
       "      <td>0.040000</td>\n",
       "      <td>0.110000</td>\n",
       "      <td>0.570000</td>\n",
       "      <td>3.300000</td>\n",
       "      <td>3.800000</td>\n",
       "      <td>21.000000</td>\n",
       "      <td>0.010000</td>\n",
       "      <td>0.040000</td>\n",
       "      <td>1.000000</td>\n",
       "      <td>7.400000</td>\n",
       "    </tr>\n",
       "    <tr>\n",
       "      <th>50%</th>\n",
       "      <td>1.604497e+12</td>\n",
       "      <td>172337.000000</td>\n",
       "      <td>0.230000</td>\n",
       "      <td>0.260000</td>\n",
       "      <td>0.240000</td>\n",
       "      <td>213.000000</td>\n",
       "      <td>0.000000</td>\n",
       "      <td>195.000000</td>\n",
       "      <td>0.230000</td>\n",
       "      <td>7.000000</td>\n",
       "      <td>...</td>\n",
       "      <td>0.050000</td>\n",
       "      <td>0.120000</td>\n",
       "      <td>0.640000</td>\n",
       "      <td>3.800000</td>\n",
       "      <td>4.300000</td>\n",
       "      <td>22.000000</td>\n",
       "      <td>0.020000</td>\n",
       "      <td>0.050000</td>\n",
       "      <td>1.000000</td>\n",
       "      <td>8.000000</td>\n",
       "    </tr>\n",
       "    <tr>\n",
       "      <th>75%</th>\n",
       "      <td>1.604583e+12</td>\n",
       "      <td>258506.250000</td>\n",
       "      <td>0.240000</td>\n",
       "      <td>0.280000</td>\n",
       "      <td>0.270000</td>\n",
       "      <td>328.000000</td>\n",
       "      <td>0.000000</td>\n",
       "      <td>311.000000</td>\n",
       "      <td>0.240000</td>\n",
       "      <td>7.200000</td>\n",
       "      <td>...</td>\n",
       "      <td>0.080000</td>\n",
       "      <td>0.160000</td>\n",
       "      <td>0.740000</td>\n",
       "      <td>4.000000</td>\n",
       "      <td>4.800000</td>\n",
       "      <td>25.000000</td>\n",
       "      <td>0.040000</td>\n",
       "      <td>0.050000</td>\n",
       "      <td>1.000000</td>\n",
       "      <td>8.100000</td>\n",
       "    </tr>\n",
       "    <tr>\n",
       "      <th>max</th>\n",
       "      <td>1.604669e+12</td>\n",
       "      <td>344676.000000</td>\n",
       "      <td>0.490000</td>\n",
       "      <td>18.600000</td>\n",
       "      <td>57.400000</td>\n",
       "      <td>1000.000000</td>\n",
       "      <td>0.050000</td>\n",
       "      <td>1000.000000</td>\n",
       "      <td>0.490000</td>\n",
       "      <td>31.200000</td>\n",
       "      <td>...</td>\n",
       "      <td>28.900000</td>\n",
       "      <td>0.770000</td>\n",
       "      <td>4.970000</td>\n",
       "      <td>13.800000</td>\n",
       "      <td>143.000000</td>\n",
       "      <td>53.000000</td>\n",
       "      <td>27.600000</td>\n",
       "      <td>0.090000</td>\n",
       "      <td>10.400000</td>\n",
       "      <td>9.500000</td>\n",
       "    </tr>\n",
       "  </tbody>\n",
       "</table>\n",
       "<p>8 rows × 45 columns</p>\n",
       "</div>"
      ],
      "text/plain": [
       "          Time [ms]   Rel.Time [s]  5001|MVe [L/min]  5001|MVi [L/min]  \\\n",
       "count  6.894360e+05  689436.000000     344633.000000     344633.000000   \n",
       "mean   1.604497e+12  172337.580989          0.223555          0.264366   \n",
       "std    9.949949e+07   99499.484827          0.029445          0.142057   \n",
       "min    1.604325e+12       0.000000          0.000000          0.000000   \n",
       "25%    1.604411e+12   86168.000000          0.210000          0.230000   \n",
       "50%    1.604497e+12  172337.000000          0.230000          0.260000   \n",
       "75%    1.604583e+12  258506.250000          0.240000          0.280000   \n",
       "max    1.604669e+12  344676.000000          0.490000         18.600000   \n",
       "\n",
       "       5001|Cdyn [L/bar]  5001|R [mbar/L/s]  5001|MVespon [L/min]  \\\n",
       "count      344073.000000      342099.000000         344633.000000   \n",
       "mean            0.245819         274.040235              0.000078   \n",
       "std             0.171054         165.355264              0.000930   \n",
       "min             0.000000          29.400000              0.000000   \n",
       "25%             0.210000         162.000000              0.000000   \n",
       "50%             0.240000         213.000000              0.000000   \n",
       "75%             0.270000         328.000000              0.000000   \n",
       "max            57.400000        1000.000000              0.050000   \n",
       "\n",
       "       5001|Rpat [mbar/L/s]  5001|MVemand [L/min]  5001|FlowDev [L/min]  ...  \\\n",
       "count         341398.000000         344633.000000         344677.000000  ...   \n",
       "mean             257.375030              0.223284              7.125048  ...   \n",
       "std              167.911146              0.029531              0.722707  ...   \n",
       "min               15.800000              0.000000              6.400000  ...   \n",
       "25%              143.000000              0.210000              6.900000  ...   \n",
       "50%              195.000000              0.230000              7.000000  ...   \n",
       "75%              311.000000              0.240000              7.200000  ...   \n",
       "max             1000.000000              0.490000             31.200000  ...   \n",
       "\n",
       "         5001|TC [s]   5001|TCe [s]  5001|C20/Cdyn [no unit]  5001|VTe [mL]  \\\n",
       "count  344051.000000  344566.000000            339993.000000  344566.000000   \n",
       "mean        0.067510       0.144449                 0.717213       3.718690   \n",
       "std         0.105278       0.049657                 0.359153       0.779251   \n",
       "min         0.000000       0.010000                 0.230000       0.600000   \n",
       "25%         0.040000       0.110000                 0.570000       3.300000   \n",
       "50%         0.050000       0.120000                 0.640000       3.800000   \n",
       "75%         0.080000       0.160000                 0.740000       4.000000   \n",
       "max        28.900000       0.770000                 4.970000      13.800000   \n",
       "\n",
       "       5001|VTi [mL]  5001|EIP [mbar]  5001|MVleak [L/min]  5001|Tispon [s]  \\\n",
       "count  344570.000000    344676.000000        344632.000000     10015.000000   \n",
       "mean        4.341298        23.860487             0.045116         0.047129   \n",
       "std         1.049905         4.350903             0.318332         0.008108   \n",
       "min         0.600000         1.800000             0.000000         0.040000   \n",
       "25%         3.800000        21.000000             0.010000         0.040000   \n",
       "50%         4.300000        22.000000             0.020000         0.050000   \n",
       "75%         4.800000        25.000000             0.040000         0.050000   \n",
       "max       143.000000        53.000000            27.600000         0.090000   \n",
       "\n",
       "       5001|I:Espon (I-Part) [no unit]  5001|I:Espon (E-Part) [no unit]  \n",
       "count                      9071.000000                      9071.000000  \n",
       "mean                          1.018212                         7.191357  \n",
       "std                           0.224628                         1.889433  \n",
       "min                           1.000000                         1.000000  \n",
       "25%                           1.000000                         7.400000  \n",
       "50%                           1.000000                         8.000000  \n",
       "75%                           1.000000                         8.100000  \n",
       "max                          10.400000                         9.500000  \n",
       "\n",
       "[8 rows x 45 columns]"
      ]
     },
     "execution_count": 48,
     "metadata": {},
     "output_type": "execute_result"
    }
   ],
   "source": [
    "stats = data.describe()\n",
    "stats"
   ]
  },
  {
   "cell_type": "markdown",
   "metadata": {},
   "source": [
    "Easy exporting the data into excel files and all other data formats."
   ]
  },
  {
   "cell_type": "code",
   "execution_count": 49,
   "metadata": {},
   "outputs": [],
   "source": [
    "writer = pd.ExcelWriter(os.path.join('results','stats.xlsx'))\n",
    "stats.to_excel(writer, 'stats')\n",
    "writer.save()"
   ]
  },
  {
   "cell_type": "markdown",
   "metadata": {},
   "source": [
    "Calculating the number of inflations falling to different ranges of tidal volumes and exporting graph as an image file\n",
    "\n",
    "Customisation of graphs, 3D graphs and interactive graphs easy to produce"
   ]
  },
  {
   "cell_type": "code",
   "execution_count": 52,
   "metadata": {},
   "outputs": [
    {
     "data": {
      "image/png": "[encoded data removed]",
      "text/plain": [
       "<Figure size 576x432 with 1 Axes>"
      ]
     },
     "metadata": {
      "needs_background": "light"
     },
     "output_type": "display_data"
    }
   ],
   "source": [
    "import matplotlib.pyplot as plt\n",
    "fig, ax = plt.subplots(figsize = [8,6])\n",
    "cats_VT = pd.cut(data['5001|VTemand [mL]'], bins = range(0, \n",
    "                    int(data['5001|VTemand [mL]'].max() + 1)), right = True)\n",
    "cats_VT.value_counts().sort_index().plot(kind = 'bar', logy = True, \n",
    "                    title = 'VTmand', color = 'blue', alpha = 0.7, fontsize = 14)\n",
    "ax.set_xlabel('range (mL/kg)', size = 14)\n",
    "ax.set_ylabel('number of inflations', size = 14)\n",
    "fig.savefig(os.path.join('results', 'VT_distribution.jpg'), dpi = 200,  format = 'jpg', bbox_inches='tight')"
   ]
  },
  {
   "cell_type": "markdown",
   "metadata": {},
   "source": [
    "What is the average peak inflating pressure of the inflations falling to different ranges of tidal volumes ?"
   ]
  },
  {
   "cell_type": "code",
   "execution_count": 53,
   "metadata": {},
   "outputs": [
    {
     "data": {
      "image/png": "[encoded data removed]",
      "text/plain": [
       "<Figure size 576x432 with 1 Axes>"
      ]
     },
     "metadata": {
      "needs_background": "light"
     },
     "output_type": "display_data"
    }
   ],
   "source": [
    "fig, ax = plt.subplots(figsize = [8,6])\n",
    "data.groupby(cats_VT)['5001|PIP [mbar]'].median().plot(kind = 'bar',\n",
    "    title = 'Relationship between inflating pressure and tidal volume', color = 'blue', alpha = 0.7, fontsize = 14)\n",
    "ax.set_xlabel('tidal volume range', size = 14)\n",
    "ax.set_ylabel('mean peak inflating pressure (mbar)', size = 14)\n",
    "fig.savefig(os.path.join('results', 'PIP_distribution_vs_VTmand.jpg'), dpi = 200,  format = 'jpg', bbox_inches='tight')"
   ]
  },
  {
   "cell_type": "markdown",
   "metadata": {},
   "source": [
    "Further data analysis:\n",
    "- Outlier removal\n",
    "- Handling missing data\n",
    "- Inferential statistics (hypothesis testing)\n",
    "- Regression models\n",
    "- Machine learning\n",
    "- Deep learning"
   ]
  },
  {
   "cell_type": "markdown",
   "metadata": {},
   "source": [
    "### 7. Five important components of Python"
   ]
  },
  {
   "cell_type": "markdown",
   "metadata": {},
   "source": [
    "1. Keywords\n",
    "2. Primitive data structures\n",
    "3. Operators\n",
    "4. Built-in functions\n",
    "5. Methods"
   ]
  },
  {
   "cell_type": "markdown",
   "metadata": {},
   "source": [
    "#### 1. Keywords\n",
    "\n",
    "Python only has **35** keywords"
   ]
  },
  {
   "cell_type": "code",
   "execution_count": 54,
   "metadata": {},
   "outputs": [
    {
     "name": "stdout",
     "output_type": "stream",
     "text": [
      "['False', 'None', 'True', 'and', 'as', 'assert', 'async', 'await', 'break', 'class', 'continue', 'def', 'del', 'elif', 'else', 'except', 'finally', 'for', 'from', 'global', 'if', 'import', 'in', 'is', 'lambda', 'nonlocal', 'not', 'or', 'pass', 'raise', 'return', 'try', 'while', 'with', 'yield']\n"
     ]
    }
   ],
   "source": [
    "import keyword\n",
    "print(keyword.kwlist)"
   ]
  },
  {
   "cell_type": "code",
   "execution_count": 55,
   "metadata": {},
   "outputs": [
    {
     "data": {
      "text/plain": [
       "35"
      ]
     },
     "execution_count": 55,
     "metadata": {},
     "output_type": "execute_result"
    }
   ],
   "source": [
    "len(keyword.kwlist)"
   ]
  },
  {
   "cell_type": "code",
   "execution_count": 56,
   "metadata": {},
   "outputs": [
    {
     "data": {
      "text/plain": [
       "False"
      ]
     },
     "execution_count": 56,
     "metadata": {},
     "output_type": "execute_result"
    }
   ],
   "source": [
    "True and False"
   ]
  },
  {
   "cell_type": "code",
   "execution_count": 57,
   "metadata": {},
   "outputs": [
    {
     "data": {
      "text/plain": [
       "True"
      ]
     },
     "execution_count": 57,
     "metadata": {},
     "output_type": "execute_result"
    }
   ],
   "source": [
    "True or False"
   ]
  },
  {
   "cell_type": "markdown",
   "metadata": {},
   "source": [
    "These are Python `expressions` = they return something"
   ]
  },
  {
   "cell_type": "markdown",
   "metadata": {},
   "source": [
    "#### 2. Primitives"
   ]
  },
  {
   "cell_type": "code",
   "execution_count": 58,
   "metadata": {},
   "outputs": [
    {
     "data": {
      "text/plain": [
       "2021"
      ]
     },
     "execution_count": 58,
     "metadata": {},
     "output_type": "execute_result"
    }
   ],
   "source": [
    "# Numbers\n",
    "\n",
    "2021"
   ]
  },
  {
   "cell_type": "markdown",
   "metadata": {},
   "source": [
    "Note that text is in inverted commas"
   ]
  },
  {
   "cell_type": "code",
   "execution_count": 59,
   "metadata": {},
   "outputs": [
    {
     "data": {
      "text/plain": [
       "'Hello world'"
      ]
     },
     "execution_count": 59,
     "metadata": {},
     "output_type": "execute_result"
    }
   ],
   "source": [
    "# Text\n",
    "\n",
    "'Hello world'"
   ]
  },
  {
   "cell_type": "markdown",
   "metadata": {},
   "source": [
    "#### 3. Operators\n",
    "\n",
    "For example `+`, `-`, `*`, `/`, `**`"
   ]
  },
  {
   "cell_type": "markdown",
   "metadata": {},
   "source": [
    "Expressions are `evaluated` and the result is returned"
   ]
  },
  {
   "cell_type": "code",
   "execution_count": 60,
   "metadata": {},
   "outputs": [
    {
     "data": {
      "text/plain": [
       "4043"
      ]
     },
     "execution_count": 60,
     "metadata": {},
     "output_type": "execute_result"
    }
   ],
   "source": [
    "2021 + 2022"
   ]
  },
  {
   "cell_type": "markdown",
   "metadata": {},
   "source": [
    "Instead of returning the results they can be bound to a `variable`.\n",
    "\n",
    "This is called `assignment`.\n",
    "\n",
    "Assignment is a `statement` and it does not return anything... "
   ]
  },
  {
   "cell_type": "code",
   "execution_count": 61,
   "metadata": {},
   "outputs": [],
   "source": [
    "A = 2021 + 2022"
   ]
  },
  {
   "cell_type": "markdown",
   "metadata": {},
   "source": [
    "... but now the result of expression is bound to a `variable` called **A** and it can be evaluated and returned"
   ]
  },
  {
   "cell_type": "code",
   "execution_count": 62,
   "metadata": {},
   "outputs": [
    {
     "data": {
      "text/plain": [
       "4043"
      ]
     },
     "execution_count": 62,
     "metadata": {},
     "output_type": "execute_result"
    }
   ],
   "source": [
    "A"
   ]
  },
  {
   "cell_type": "markdown",
   "metadata": {},
   "source": [
    "Operators also work with text but do something else"
   ]
  },
  {
   "cell_type": "code",
   "execution_count": 63,
   "metadata": {},
   "outputs": [
    {
     "data": {
      "text/plain": [
       "'Hello Hello Hello Hello Hello '"
      ]
     },
     "execution_count": 63,
     "metadata": {},
     "output_type": "execute_result"
    }
   ],
   "source": [
    "'Hello ' * 5"
   ]
  },
  {
   "cell_type": "markdown",
   "metadata": {},
   "source": [
    "_Variables point to the data rather than containing it (they are pointers, not boxes)_"
   ]
  },
  {
   "cell_type": "code",
   "execution_count": 64,
   "metadata": {},
   "outputs": [
    {
     "data": {
      "text/plain": [
       "1234.1234"
      ]
     },
     "execution_count": 64,
     "metadata": {},
     "output_type": "execute_result"
    }
   ],
   "source": [
    "A = 1234.1234\n",
    "A"
   ]
  },
  {
   "cell_type": "markdown",
   "metadata": {},
   "source": [
    "Note the difference between the assignment operator `=` and the equality check `==`"
   ]
  },
  {
   "cell_type": "code",
   "execution_count": 65,
   "metadata": {},
   "outputs": [
    {
     "data": {
      "text/plain": [
       "42"
      ]
     },
     "execution_count": 65,
     "metadata": {},
     "output_type": "execute_result"
    }
   ],
   "source": [
    "A = 42\n",
    "A"
   ]
  },
  {
   "cell_type": "code",
   "execution_count": 66,
   "metadata": {},
   "outputs": [
    {
     "data": {
      "text/plain": [
       "False"
      ]
     },
     "execution_count": 66,
     "metadata": {},
     "output_type": "execute_result"
    }
   ],
   "source": [
    "A == 84"
   ]
  },
  {
   "cell_type": "markdown",
   "metadata": {},
   "source": [
    "#### 4. Built-in functions\n",
    "\n",
    "They are called _built-in_ because they are already there. You can build your own functions\n",
    "\n",
    "Arguments are in parentheses\n",
    "\n",
    "Functions always return something therefore they are expressions\n"
   ]
  },
  {
   "cell_type": "code",
   "execution_count": 67,
   "metadata": {},
   "outputs": [
    {
     "data": {
      "text/plain": [
       "1234"
      ]
     },
     "execution_count": 67,
     "metadata": {},
     "output_type": "execute_result"
    }
   ],
   "source": [
    "int(1234.5678)"
   ]
  },
  {
   "cell_type": "code",
   "execution_count": 68,
   "metadata": {},
   "outputs": [
    {
     "name": "stdout",
     "output_type": "stream",
     "text": [
      "Hello world\n"
     ]
    }
   ],
   "source": [
    "# Please note that now the inverted commas are missing - printer-friendly format\n",
    "\n",
    "print('Hello world')"
   ]
  },
  {
   "cell_type": "markdown",
   "metadata": {},
   "source": [
    "#### 5. Methods\n",
    "\n",
    "These are also functions but are linked to objects"
   ]
  },
  {
   "cell_type": "code",
   "execution_count": 69,
   "metadata": {},
   "outputs": [
    {
     "data": {
      "text/plain": [
       "'HELLO WORLD'"
      ]
     },
     "execution_count": 69,
     "metadata": {},
     "output_type": "execute_result"
    }
   ],
   "source": [
    "B = 'Hello World'\n",
    "B.upper()"
   ]
  },
  {
   "cell_type": "markdown",
   "metadata": {},
   "source": [
    "They can have additional arguments"
   ]
  },
  {
   "cell_type": "code",
   "execution_count": 70,
   "metadata": {},
   "outputs": [
    {
     "data": {
      "text/plain": [
       "6"
      ]
     },
     "execution_count": 70,
     "metadata": {},
     "output_type": "execute_result"
    }
   ],
   "source": [
    "B.find('W')"
   ]
  },
  {
   "cell_type": "markdown",
   "metadata": {},
   "source": [
    "### 8. Homework"
   ]
  },
  {
   "cell_type": "markdown",
   "metadata": {},
   "source": [
    "Try to guess what will these expressions return before pressing `SHIFT-Enter`\n",
    "\n",
    "Some of these points were not discussed. You may need to look it up on the Internet."
   ]
  },
  {
   "cell_type": "code",
   "execution_count": 71,
   "metadata": {},
   "outputs": [
    {
     "data": {
      "text/plain": [
       "10.0"
      ]
     },
     "execution_count": 71,
     "metadata": {},
     "output_type": "execute_result"
    }
   ],
   "source": [
    "10 * 10 / 10"
   ]
  },
  {
   "cell_type": "code",
   "execution_count": 72,
   "metadata": {},
   "outputs": [
    {
     "data": {
      "text/plain": [
       "11.0"
      ]
     },
     "execution_count": 72,
     "metadata": {},
     "output_type": "execute_result"
    }
   ],
   "source": [
    "10 + 10 / 10"
   ]
  },
  {
   "cell_type": "code",
   "execution_count": 73,
   "metadata": {},
   "outputs": [
    {
     "data": {
      "text/plain": [
       "7"
      ]
     },
     "execution_count": 73,
     "metadata": {},
     "output_type": "execute_result"
    }
   ],
   "source": [
    "15 // 2"
   ]
  },
  {
   "cell_type": "code",
   "execution_count": 74,
   "metadata": {},
   "outputs": [
    {
     "data": {
      "text/plain": [
       "1"
      ]
     },
     "execution_count": 74,
     "metadata": {},
     "output_type": "execute_result"
    }
   ],
   "source": [
    "15 % 2"
   ]
  },
  {
   "cell_type": "code",
   "execution_count": 75,
   "metadata": {},
   "outputs": [
    {
     "data": {
      "text/plain": [
       "1"
      ]
     },
     "execution_count": 75,
     "metadata": {},
     "output_type": "execute_result"
    }
   ],
   "source": [
    "1 or 2"
   ]
  },
  {
   "cell_type": "code",
   "execution_count": 76,
   "metadata": {},
   "outputs": [
    {
     "data": {
      "text/plain": [
       "2"
      ]
     },
     "execution_count": 76,
     "metadata": {},
     "output_type": "execute_result"
    }
   ],
   "source": [
    "1 and 2"
   ]
  },
  {
   "cell_type": "code",
   "execution_count": 77,
   "metadata": {},
   "outputs": [
    {
     "data": {
      "text/plain": [
       "0"
      ]
     },
     "execution_count": 77,
     "metadata": {},
     "output_type": "execute_result"
    }
   ],
   "source": [
    "0 and 2"
   ]
  },
  {
   "cell_type": "code",
   "execution_count": 78,
   "metadata": {},
   "outputs": [
    {
     "data": {
      "text/plain": [
       "2"
      ]
     },
     "execution_count": 78,
     "metadata": {},
     "output_type": "execute_result"
    }
   ],
   "source": [
    "0 or 2"
   ]
  },
  {
   "cell_type": "code",
   "execution_count": 79,
   "metadata": {},
   "outputs": [
    {
     "data": {
      "text/plain": [
       "0"
      ]
     },
     "execution_count": 79,
     "metadata": {},
     "output_type": "execute_result"
    }
   ],
   "source": [
    "0 or 1 and 0"
   ]
  },
  {
   "cell_type": "code",
   "execution_count": 80,
   "metadata": {},
   "outputs": [
    {
     "data": {
      "text/plain": [
       "'hello'"
      ]
     },
     "execution_count": 80,
     "metadata": {},
     "output_type": "execute_result"
    }
   ],
   "source": [
    "'' or 'hello'"
   ]
  },
  {
   "cell_type": "code",
   "execution_count": 81,
   "metadata": {},
   "outputs": [
    {
     "data": {
      "text/plain": [
       "' '"
      ]
     },
     "execution_count": 81,
     "metadata": {},
     "output_type": "execute_result"
    }
   ],
   "source": [
    "' ' or hello"
   ]
  },
  {
   "cell_type": "markdown",
   "metadata": {},
   "source": [
    "Why are these different?"
   ]
  },
  {
   "cell_type": "code",
   "execution_count": 82,
   "metadata": {},
   "outputs": [
    {
     "data": {
      "text/plain": [
       "(16, 17)"
      ]
     },
     "execution_count": 82,
     "metadata": {},
     "output_type": "execute_result"
    }
   ],
   "source": [
    "int(16.864295), round(16.864295)"
   ]
  },
  {
   "cell_type": "markdown",
   "metadata": {},
   "source": [
    "What will be the output ?"
   ]
  },
  {
   "cell_type": "code",
   "execution_count": 83,
   "metadata": {},
   "outputs": [
    {
     "data": {
      "text/plain": [
       "'Midway upon the journey of our life I found myself within a forest dark, For the straightforward pathway had been lost.'"
      ]
     },
     "execution_count": 83,
     "metadata": {},
     "output_type": "execute_result"
    }
   ],
   "source": [
    "B = 'Midway upon the journey of our life I found myself within a forest dark, For the straightforward pathway had been lost.'\n",
    "B"
   ]
  },
  {
   "cell_type": "code",
   "execution_count": 84,
   "metadata": {},
   "outputs": [
    {
     "data": {
      "text/plain": [
       "1"
      ]
     },
     "execution_count": 84,
     "metadata": {},
     "output_type": "execute_result"
    }
   ],
   "source": [
    "B.count('m')"
   ]
  },
  {
   "cell_type": "code",
   "execution_count": 85,
   "metadata": {},
   "outputs": [
    {
     "data": {
      "text/plain": [
       "2"
      ]
     },
     "execution_count": 85,
     "metadata": {},
     "output_type": "execute_result"
    }
   ],
   "source": [
    "B.lower().count('m')"
   ]
  },
  {
   "cell_type": "code",
   "execution_count": 86,
   "metadata": {},
   "outputs": [
    {
     "data": {
      "text/plain": [
       "['Midway',\n",
       " 'upon',\n",
       " 'the',\n",
       " 'journey',\n",
       " 'of',\n",
       " 'our',\n",
       " 'life',\n",
       " 'I',\n",
       " 'found',\n",
       " 'myself',\n",
       " 'within',\n",
       " 'a',\n",
       " 'forest',\n",
       " 'dark,',\n",
       " 'For',\n",
       " 'the',\n",
       " 'straightforward',\n",
       " 'pathway',\n",
       " 'had',\n",
       " 'been',\n",
       " 'lost.']"
      ]
     },
     "execution_count": 86,
     "metadata": {},
     "output_type": "execute_result"
    }
   ],
   "source": [
    "B.split(' ')"
   ]
  },
  {
   "cell_type": "markdown",
   "metadata": {},
   "source": [
    "Finally: what the heck is this"
   ]
  },
  {
   "cell_type": "code",
   "execution_count": 87,
   "metadata": {},
   "outputs": [
    {
     "data": {
      "text/plain": [
       "['__add__',\n",
       " '__class__',\n",
       " '__contains__',\n",
       " '__delattr__',\n",
       " '__dir__',\n",
       " '__doc__',\n",
       " '__eq__',\n",
       " '__format__',\n",
       " '__ge__',\n",
       " '__getattribute__',\n",
       " '__getitem__',\n",
       " '__getnewargs__',\n",
       " '__gt__',\n",
       " '__hash__',\n",
       " '__init__',\n",
       " '__init_subclass__',\n",
       " '__iter__',\n",
       " '__le__',\n",
       " '__len__',\n",
       " '__lt__',\n",
       " '__mod__',\n",
       " '__mul__',\n",
       " '__ne__',\n",
       " '__new__',\n",
       " '__reduce__',\n",
       " '__reduce_ex__',\n",
       " '__repr__',\n",
       " '__rmod__',\n",
       " '__rmul__',\n",
       " '__setattr__',\n",
       " '__sizeof__',\n",
       " '__str__',\n",
       " '__subclasshook__',\n",
       " 'capitalize',\n",
       " 'casefold',\n",
       " 'center',\n",
       " 'count',\n",
       " 'encode',\n",
       " 'endswith',\n",
       " 'expandtabs',\n",
       " 'find',\n",
       " 'format',\n",
       " 'format_map',\n",
       " 'index',\n",
       " 'isalnum',\n",
       " 'isalpha',\n",
       " 'isascii',\n",
       " 'isdecimal',\n",
       " 'isdigit',\n",
       " 'isidentifier',\n",
       " 'islower',\n",
       " 'isnumeric',\n",
       " 'isprintable',\n",
       " 'isspace',\n",
       " 'istitle',\n",
       " 'isupper',\n",
       " 'join',\n",
       " 'ljust',\n",
       " 'lower',\n",
       " 'lstrip',\n",
       " 'maketrans',\n",
       " 'partition',\n",
       " 'replace',\n",
       " 'rfind',\n",
       " 'rindex',\n",
       " 'rjust',\n",
       " 'rpartition',\n",
       " 'rsplit',\n",
       " 'rstrip',\n",
       " 'split',\n",
       " 'splitlines',\n",
       " 'startswith',\n",
       " 'strip',\n",
       " 'swapcase',\n",
       " 'title',\n",
       " 'translate',\n",
       " 'upper',\n",
       " 'zfill']"
      ]
     },
     "execution_count": 87,
     "metadata": {},
     "output_type": "execute_result"
    }
   ],
   "source": [
    "dir(B)"
   ]
  },
  {
   "cell_type": "code",
   "execution_count": null,
   "metadata": {},
   "outputs": [],
   "source": []
  }
 ],
 "metadata": {
  "anaconda-cloud": {},
  "kernelspec": {
   "display_name": "Python 3",
   "language": "python",
   "name": "python3"
  },
  "language_info": {
   "codemirror_mode": {
    "name": "ipython",
    "version": 3
   },
   "file_extension": ".py",
   "mimetype": "text/x-python",
   "name": "python",
   "nbconvert_exporter": "python",
   "pygments_lexer": "ipython3",
   "version": "3.7.9"
  }
 },
 "nbformat": 4,
 "nbformat_minor": 2
}
